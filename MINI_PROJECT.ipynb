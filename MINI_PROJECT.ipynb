{
  "nbformat": 4,
  "nbformat_minor": 0,
  "metadata": {
    "colab": {
      "name": "MINI PROJECT",
      "provenance": []
    },
    "kernelspec": {
      "name": "python3",
      "display_name": "Python 3"
    }
  },
  "cells": [
    {
      "cell_type": "code",
      "metadata": {
        "id": "J_Si_0x7EsSI",
        "colab_type": "code",
        "colab": {
          "base_uri": "https://localhost:8080/",
          "height": 35
        },
        "outputId": "7041abbd-989c-4c43-81df-a4025c5f5d04"
      },
      "source": [
        "!pip install bing-image-downloader"
      ],
      "execution_count": 25,
      "outputs": [
        {
          "output_type": "stream",
          "text": [
            "Requirement already satisfied: bing-image-downloader in /usr/local/lib/python3.6/dist-packages (1.0.4)\n"
          ],
          "name": "stdout"
        }
      ]
    },
    {
      "cell_type": "code",
      "metadata": {
        "id": "vIWEagZhE-NW",
        "colab_type": "code",
        "colab": {
          "base_uri": "https://localhost:8080/",
          "height": 364
        },
        "outputId": "c1c11590-ebe0-48cd-f837-818f9a87ce51"
      },
      "source": [
        "!ls"
      ],
      "execution_count": 26,
      "outputs": [
        {
          "output_type": "stream",
          "text": [
            " 2019\n",
            "'221710310040-cs10-j16 (8).pdf'\n",
            "'221710310040_MadharapuTharun (1).pdf'\n",
            " 221710310040_MadharapuTharun.gdoc\n",
            " 221710310040_MadharapuTharun.pdf\n",
            "'Artificial intelligence'\n",
            "'Codevita Registration Report - 03 June.xlsx'\n",
            "'Colab Notebooks'\n",
            "'DBMS module 1-4.pdf'\n",
            " epdf.pub_learn-python-the-hard-way.gdoc\n",
            " epdf.pub_learn-python-the-hard-way.pdf\n",
            " images\n",
            " IMG_0041.CR2\n",
            "'Introduction to E R model.docx'\n",
            "'jee advance hall ticket-20190522215948.pdf'\n",
            "'MINI PROJECT'\n",
            "'mini project .ipynb'\n",
            "'nerve mini project-converted'\n",
            "'Untitled document.gdoc'\n",
            "'wt asg -3 (221710310040).pdf'\n"
          ],
          "name": "stdout"
        }
      ]
    },
    {
      "cell_type": "code",
      "metadata": {
        "id": "yTIdmYuqFTTK",
        "colab_type": "code",
        "colab": {
          "base_uri": "https://localhost:8080/",
          "height": 35
        },
        "outputId": "a427321a-8f15-4b48-ee36-882a39eff897"
      },
      "source": [
        "cd /content/drive/My Drive"
      ],
      "execution_count": 27,
      "outputs": [
        {
          "output_type": "stream",
          "text": [
            "/content/drive/My Drive\n"
          ],
          "name": "stdout"
        }
      ]
    },
    {
      "cell_type": "code",
      "metadata": {
        "id": "NiRgPtgiVNI-",
        "colab_type": "code",
        "colab": {
          "base_uri": "https://localhost:8080/",
          "height": 55
        },
        "outputId": "1e85c9fd-7b8b-45f9-cc3f-6c2dc34de712"
      },
      "source": [
        "from google.colab import drive\n",
        "drive.mount('/content/drive')"
      ],
      "execution_count": 28,
      "outputs": [
        {
          "output_type": "stream",
          "text": [
            "Drive already mounted at /content/drive; to attempt to forcibly remount, call drive.mount(\"/content/drive\", force_remount=True).\n"
          ],
          "name": "stdout"
        }
      ]
    },
    {
      "cell_type": "code",
      "metadata": {
        "id": "kp8cFSgjFf38",
        "colab_type": "code",
        "colab": {
          "base_uri": "https://localhost:8080/",
          "height": 1000
        },
        "outputId": "86feceac-3a5c-45b4-c6b3-b3fd65170e31"
      },
      "source": [
        "from bing_image_downloader import downloader\n",
        "downloader.download(\"rocket\",limit = 100, output_dir = 'images')"
      ],
      "execution_count": 29,
      "outputs": [
        {
          "output_type": "stream",
          "text": [
            "\n",
            "\n",
            "[!!]Indexing page: 1\n",
            "\n",
            "[%] Indexed 100 Images on Page 1.\n",
            "\n",
            "===============================================\n",
            "\n",
            "[%] Downloading Image #1 from https://upload.wikimedia.org/wikipedia/commons/thumb/1/14/Proton_Zvezda_crop.jpg/1200px-Proton_Zvezda_crop.jpg\n",
            "[%] File Downloaded !\n",
            "\n",
            "[%] Downloading Image #2 from https://upload.wikimedia.org/wikipedia/commons/thumb/f/ff/Juno_II_rocket.jpg/1200px-Juno_II_rocket.jpg\n",
            "[%] File Downloaded !\n",
            "\n",
            "[%] Downloading Image #3 from https://upload.wikimedia.org/wikipedia/commons/thumb/7/79/Semyorka_Rocket_R7_by_Sergei_Korolyov_in_VDNH_Ostankino_RAF0540.jpg/1200px-Semyorka_Rocket_R7_by_Sergei_Korolyov_in_VDNH_Ostankino_RAF0540.jpg\n",
            "[%] File Downloaded !\n",
            "\n",
            "[%] Downloading Image #4 from https://upload.wikimedia.org/wikipedia/commons/d/d6/Black_Brant.jpg\n",
            "[%] File Downloaded !\n",
            "\n",
            "[%] Downloading Image #5 from http://blogs.nasa.gov/Rocketology/wp-content/uploads/sites/251/2015/11/678411main_Apollo-4-Launch.jpg\n",
            "[%] File Downloaded !\n",
            "\n",
            "[%] Downloading Image #6 from https://upload.wikimedia.org/wikipedia/commons/thumb/6/6e/Athena_1_rocket_launching_from_Kodiak_Island.jpg/1200px-Athena_1_rocket_launching_from_Kodiak_Island.jpg\n",
            "[%] File Downloaded !\n",
            "\n",
            "[%] Downloading Image #7 from http://www.clker.com/cliparts/d/6/8/e/12581269711028989317ElectronicRU_Rocket-Picture.svg.hi.png\n",
            "[%] File Downloaded !\n",
            "\n",
            "[%] Downloading Image #8 from https://upload.wikimedia.org/wikipedia/commons/a/a5/Bumper.jpg\n",
            "[%] File Downloaded !\n",
            "\n",
            "[%] Downloading Image #9 from https://upload.wikimedia.org/wikipedia/commons/thumb/c/c3/Gemini-Titan_11_Launch_-_GPN-2000-001020.jpg/1200px-Gemini-Titan_11_Launch_-_GPN-2000-001020.jpg\n",
            "[%] File Downloaded !\n",
            "\n",
            "[%] Downloading Image #10 from http://en.es-static.us/upl/2015/03/angara-7-heavy-lift-Adrian-Mann1.jpg\n",
            "[%] File Downloaded !\n",
            "\n",
            "[%] Downloading Image #11 from https://upload.wikimedia.org/wikipedia/commons/thumb/9/9b/Ares-V_%28Feb_2008%29.jpg/1200px-Ares-V_%28Feb_2008%29.jpg\n",
            "[%] File Downloaded !\n",
            "\n",
            "[%] Downloading Image #12 from https://upload.wikimedia.org/wikipedia/commons/thumb/c/c4/Model_rocket_launch_2_%28Starwiz%29.jpg/220px-Model_rocket_launch_2_%28Starwiz%29.jpg\n",
            "[%] File Downloaded !\n",
            "\n",
            "[%] Downloading Image #13 from https://upload.wikimedia.org/wikipedia/commons/thumb/7/74/V2_rocket.JPG/170px-V2_rocket.JPG\n",
            "[%] File Downloaded !\n",
            "\n",
            "[%] Downloading Image #14 from https://upload.wikimedia.org/wikipedia/commons/thumb/3/3f/Viking_5C_rocketengine.jpg/1200px-Viking_5C_rocketengine.jpg\n",
            "[%] File Downloaded !\n",
            "\n",
            "[%] Downloading Image #15 from https://i.ytimg.com/vi/kaGuVRfwzv4/maxresdefault.jpg\n",
            "[%] File Downloaded !\n",
            "\n",
            "[%] Downloading Image #16 from https://upload.wikimedia.org/wikipedia/commons/thumb/f/f4/Haas_2_rocket_with_IAR_111_supersonic_plane.jpg/250px-Haas_2_rocket_with_IAR_111_supersonic_plane.jpg\n",
            "[%] File Downloaded !\n",
            "\n",
            "[%] Downloading Image #17 from https://i.pinimg.com/736x/2f/66/09/2f66091b0ff631676ff178177c483169--lifehacks-scale-models.jpg\n",
            "[%] File Downloaded !\n",
            "\n",
            "[%] Downloading Image #18 from https://upload.wikimedia.org/wikipedia/commons/thumb/9/9a/Soyuz_TMA-9_launch.jpg/1200px-Soyuz_TMA-9_launch.jpg\n",
            "[Error]Invalid image, not saving https://upload.wikimedia.org/wikipedia/commons/thumb/9/9a/Soyuz_TMA-9_launch.jpg/1200px-Soyuz_TMA-9_launch.jpg\n",
            "\n",
            "[!] Issue getting: https://upload.wikimedia.org/wikipedia/commons/thumb/9/9a/Soyuz_TMA-9_launch.jpg/1200px-Soyuz_TMA-9_launch.jpg\n",
            "[!] Error:: No active exception to reraise\n",
            "[%] Downloading Image #18 from http://www.nasa.gov/centers/marshall/images/content/617953main_jsc2009e219018_3240x4861.jpg\n",
            "[%] File Downloaded !\n",
            "\n",
            "[%] Downloading Image #19 from https://upload.wikimedia.org/wikipedia/commons/thumb/2/2f/DF-SC-99-00074_cropped_and_rotated.jpeg/1200px-DF-SC-99-00074_cropped_and_rotated.jpeg\n",
            "[%] File Downloaded !\n",
            "\n",
            "[%] Downloading Image #20 from https://upload.wikimedia.org/wikipedia/commons/thumb/8/8b/Saturn_SA9_launch.jpg/1920px-Saturn_SA9_launch.jpg\n",
            "[%] File Downloaded !\n",
            "\n",
            "[%] Downloading Image #21 from https://upload.wikimedia.org/wikipedia/commons/thumb/6/6d/Cohete_Tronador_II.JPG/1200px-Cohete_Tronador_II.JPG\n",
            "[%] File Downloaded !\n",
            "\n",
            "[%] Downloading Image #22 from https://i.pinimg.com/736x/30/32/17/303217e62df4223514cdc7a2126f2a7e--rocket-ships-space-program.jpg\n",
            "[%] File Downloaded !\n",
            "\n",
            "[%] Downloading Image #23 from https://upload.wikimedia.org/wikipedia/commons/thumb/9/93/Athena_2_-_Lunar_Prospector.jpg/1200px-Athena_2_-_Lunar_Prospector.jpg\n",
            "[%] File Downloaded !\n",
            "\n",
            "[%] Downloading Image #24 from https://upload.wikimedia.org/wikipedia/commons/thumb/6/68/STS-110_Launch.jpg/1200px-STS-110_Launch.jpg\n",
            "[%] File Downloaded !\n",
            "\n",
            "[%] Downloading Image #25 from http://spaceflightnow.com/wp-content/uploads/2015/06/ariane64.png\n",
            "[%] File Downloaded !\n",
            "\n",
            "[%] Downloading Image #26 from https://i.ytimg.com/vi/4ou3QC_eMRE/maxresdefault.jpg\n",
            "[%] File Downloaded !\n",
            "\n",
            "[%] Downloading Image #27 from https://upload.wikimedia.org/wikipedia/commons/thumb/2/2b/Russia-Moscow-VDNH-Rocket_R-7-1.jpg/1200px-Russia-Moscow-VDNH-Rocket_R-7-1.jpg\n",
            "[%] File Downloaded !\n",
            "\n",
            "[%] Downloading Image #28 from https://upload.wikimedia.org/wikipedia/commons/thumb/0/07/Pioneer_I_on_the_Launch_Pad_-_GPN-2002-000204.jpg/1200px-Pioneer_I_on_the_Launch_Pad_-_GPN-2002-000204.jpg\n",
            "[Error]Invalid image, not saving https://upload.wikimedia.org/wikipedia/commons/thumb/0/07/Pioneer_I_on_the_Launch_Pad_-_GPN-2002-000204.jpg/1200px-Pioneer_I_on_the_Launch_Pad_-_GPN-2002-000204.jpg\n",
            "\n",
            "[!] Issue getting: https://upload.wikimedia.org/wikipedia/commons/thumb/0/07/Pioneer_I_on_the_Launch_Pad_-_GPN-2002-000204.jpg/1200px-Pioneer_I_on_the_Launch_Pad_-_GPN-2002-000204.jpg\n",
            "[!] Error:: No active exception to reraise\n",
            "[%] Downloading Image #28 from https://upload.wikimedia.org/wikipedia/commons/thumb/b/be/Soldier_with_Bazooka_M1.jpg/1200px-Soldier_with_Bazooka_M1.jpg\n",
            "[Error]Invalid image, not saving https://upload.wikimedia.org/wikipedia/commons/thumb/b/be/Soldier_with_Bazooka_M1.jpg/1200px-Soldier_with_Bazooka_M1.jpg\n",
            "\n",
            "[!] Issue getting: https://upload.wikimedia.org/wikipedia/commons/thumb/b/be/Soldier_with_Bazooka_M1.jpg/1200px-Soldier_with_Bazooka_M1.jpg\n",
            "[!] Error:: No active exception to reraise\n",
            "[%] Downloading Image #28 from https://upload.wikimedia.org/wikipedia/commons/thumb/4/4c/Vanguard_rocket_vanguard1_satellite.jpg/120px-Vanguard_rocket_vanguard1_satellite.jpg\n",
            "[%] File Downloaded !\n",
            "\n",
            "[%] Downloading Image #29 from https://www.nasa.gov/images/content/387192main_sts124pad.jpg\n",
            "[%] File Downloaded !\n",
            "\n",
            "[%] Downloading Image #30 from https://upload.wikimedia.org/wikipedia/en/1/11/Uragan1m.jpg\n",
            "[%] File Downloaded !\n",
            "\n",
            "[%] Downloading Image #31 from https://upload.wikimedia.org/wikipedia/commons/b/b4/Kluft-photo-CSXT-2004-amateur-space-launch.jpg\n",
            "[%] File Downloaded !\n",
            "\n",
            "[%] Downloading Image #32 from https://upload.wikimedia.org/wikipedia/commons/e/e5/Fus%C3%A9e_VERONIQUE_%288727147868%29.jpg\n",
            "[%] File Downloaded !\n",
            "\n",
            "[%] Downloading Image #33 from https://i.ytimg.com/vi/HyL36bH8PP8/maxresdefault.jpg\n",
            "[%] File Downloaded !\n",
            "\n",
            "[%] Downloading Image #34 from https://upload.wikimedia.org/wikipedia/commons/thumb/2/27/Soyuz_rocket_ASTP.jpg/1200px-Soyuz_rocket_ASTP.jpg\n",
            "[%] File Downloaded !\n",
            "\n",
            "[%] Downloading Image #35 from https://upload.wikimedia.org/wikipedia/commons/thumb/c/c7/Antares_A-ONE_launch.2.jpg/1200px-Antares_A-ONE_launch.2.jpg\n",
            "[%] File Downloaded !\n",
            "\n",
            "[%] Downloading Image #36 from https://upload.wikimedia.org/wikipedia/commons/1/10/Taurus_rocket.jpg\n",
            "[%] File Downloaded !\n",
            "\n",
            "[%] Downloading Image #37 from http://i.huffpost.com/gen/840909/thumbs/o-SLSROCKET-facebook.jpg\n",
            "[%] File Downloaded !\n",
            "\n",
            "[%] Downloading Image #38 from https://openclipart.org/image/2400px/svg_to_png/28542/Kliponius-Cartoon-rocket.png\n",
            "[%] File Downloaded !\n",
            "\n",
            "[%] Downloading Image #39 from https://upload.wikimedia.org/wikipedia/commons/thumb/b/b1/Sojuz_TMA-9_into_flight.jpg/220px-Sojuz_TMA-9_into_flight.jpg\n",
            "[%] File Downloaded !\n",
            "\n",
            "[%] Downloading Image #40 from https://upload.wikimedia.org/wikipedia/commons/thumb/f/f1/Expedition_57_Launch_%28NHQ201810110004%29.jpg/1200px-Expedition_57_Launch_%28NHQ201810110004%29.jpg\n",
            "[%] File Downloaded !\n",
            "\n",
            "[%] Downloading Image #41 from https://upload.wikimedia.org/wikipedia/commons/thumb/8/81/Little_Joe_on_launcher_at_Wallops_Island_-_GPN-2000-001883.jpg/1200px-Little_Joe_on_launcher_at_Wallops_Island_-_GPN-2000-001883.jpg\n",
            "[%] File Downloaded !\n",
            "\n",
            "[%] Downloading Image #42 from http://3.bp.blogspot.com/-HsYaZj86_r4/UGtVaC3K4JI/AAAAAAAAADQ/_9VjUCVRFQg/s1600/Rocket+Ship+Picture.jpg\n",
            "[%] File Downloaded !\n",
            "\n",
            "[%] Downloading Image #43 from http://upload.wikimedia.org/wikipedia/commons/f/fd/Soyuz_TMA-05M_rocket_launches_from_Baikonur_2.jpg\n",
            "[%] File Downloaded !\n",
            "\n",
            "[%] Downloading Image #44 from https://i.ytimg.com/vi/nyRX5Z7rws8/maxresdefault.jpg\n",
            "[%] File Downloaded !\n",
            "\n",
            "[%] Downloading Image #45 from https://i.ytimg.com/vi/NwG-2JHF-yI/hqdefault.jpg\n",
            "[%] File Downloaded !\n",
            "\n",
            "[%] Downloading Image #46 from https://i.ytimg.com/vi/dlo3rBFDLug/maxresdefault.jpg\n",
            "[%] File Downloaded !\n",
            "\n",
            "[%] Downloading Image #47 from http://biocircuits.ucsd.edu/outreach/wp-content/uploads/2013/08/rocket-launch.jpeg\n",
            "[%] File Downloaded !\n",
            "\n",
            "[%] Downloading Image #48 from http://4.bp.blogspot.com/-NCXg6Np-KsU/TtzUPfB0qKI/AAAAAAAABKI/e6JZth2VFYM/s1600/rocket-wallpaper-hd-5-700984.jpg\n",
            "[%] File Downloaded !\n",
            "\n",
            "[%] Downloading Image #49 from https://media.wired.com/photos/5bb6a2a30bba6f2d70ffcc13/191:100/pass/falcon9.jpg\n",
            "[%] File Downloaded !\n",
            "\n",
            "[%] Downloading Image #50 from http://2.bp.blogspot.com/-Mh-k9zG3Tpo/TuK45KElfQI/AAAAAAAABms/g6TEhMIa1Ys/s1600/Rocket+Cake+004.JPG\n",
            "[%] File Downloaded !\n",
            "\n",
            "[%] Downloading Image #51 from https://upload.wikimedia.org/wikipedia/commons/6/61/Katyusha_launcher_rear.jpg\n",
            "[%] File Downloaded !\n",
            "\n",
            "[%] Downloading Image #52 from https://i.pinimg.com/736x/0a/25/2a/0a252a93418e4081b258b6614f1bc0bb--long-march-nasa-space.jpg\n",
            "[%] File Downloaded !\n",
            "\n",
            "[%] Downloading Image #53 from https://upload.wikimedia.org/wikipedia/commons/8/87/Nasa_rocketgarden.JPG\n",
            "[%] File Downloaded !\n",
            "\n",
            "[%] Downloading Image #54 from https://upload.wikimedia.org/wikipedia/commons/3/31/Sentinel-2_and_vega.jpg\n",
            "[%] File Downloaded !\n",
            "\n",
            "[%] Downloading Image #55 from https://upload.wikimedia.org/wikipedia/commons/thumb/2/2b/Apollo_15_launch.jpg/1200px-Apollo_15_launch.jpg\n",
            "[%] File Downloaded !\n",
            "\n",
            "[%] Downloading Image #56 from https://upload.wikimedia.org/wikipedia/commons/thumb/6/63/Scout_launch_vehicle.jpg/1200px-Scout_launch_vehicle.jpg\n",
            "[%] File Downloaded !\n",
            "\n",
            "[%] Downloading Image #57 from https://upload.wikimedia.org/wikipedia/commons/thumb/e/ec/Magnum_Booster_Rocket.jpg/1200px-Magnum_Booster_Rocket.jpg\n",
            "[%] File Downloaded !\n",
            "\n",
            "[%] Downloading Image #58 from https://i.ytimg.com/vi/hHG3Z0O9Xzo/maxresdefault.jpg\n",
            "[%] File Downloaded !\n",
            "\n",
            "[%] Downloading Image #59 from https://upload.wikimedia.org/wikipedia/commons/thumb/0/0e/AS-202_launch.jpg/220px-AS-202_launch.jpg\n",
            "[Error]Invalid image, not saving https://upload.wikimedia.org/wikipedia/commons/thumb/0/0e/AS-202_launch.jpg/220px-AS-202_launch.jpg\n",
            "\n",
            "[!] Issue getting: https://upload.wikimedia.org/wikipedia/commons/thumb/0/0e/AS-202_launch.jpg/220px-AS-202_launch.jpg\n",
            "[!] Error:: No active exception to reraise\n",
            "[%] Downloading Image #59 from https://upload.wikimedia.org/wikipedia/commons/thumb/6/6d/Arabsat-6A_Mission_%2840628438523%29.jpg/1200px-Arabsat-6A_Mission_%2840628438523%29.jpg\n",
            "[Error]Invalid image, not saving https://upload.wikimedia.org/wikipedia/commons/thumb/6/6d/Arabsat-6A_Mission_%2840628438523%29.jpg/1200px-Arabsat-6A_Mission_%2840628438523%29.jpg\n",
            "\n",
            "[!] Issue getting: https://upload.wikimedia.org/wikipedia/commons/thumb/6/6d/Arabsat-6A_Mission_%2840628438523%29.jpg/1200px-Arabsat-6A_Mission_%2840628438523%29.jpg\n",
            "[!] Error:: No active exception to reraise\n",
            "[%] Downloading Image #59 from https://1.bp.blogspot.com/-G4KMzvVurWc/UDPOdgo1o0I/AAAAAAAAAcw/k1ikoWaYXJU/s1600/rocketship.gif\n",
            "[%] File Downloaded !\n",
            "\n",
            "[%] Downloading Image #60 from https://i.ytimg.com/vi/srVK1o914SM/maxresdefault.jpg\n",
            "[%] File Downloaded !\n",
            "\n",
            "[%] Downloading Image #61 from https://i.ytimg.com/vi/7T7ckMXmkfI/hqdefault.jpg\n",
            "[%] File Downloaded !\n",
            "\n",
            "[%] Downloading Image #62 from https://www.scienceabc.com/wp-content/uploads/2017/05/Rocket-flying-in-space.jpg\n",
            "[%] File Downloaded !\n",
            "\n",
            "[%] Downloading Image #63 from http://spacerockethistory.com/wp-content/uploads/2015/08/AS-201_launch.jpg\n",
            "[%] File Downloaded !\n",
            "\n",
            "[%] Downloading Image #64 from https://upload.wikimedia.org/wikipedia/commons/thumb/7/74/Delta_IV_launch_2013-08-28.jpg/1200px-Delta_IV_launch_2013-08-28.jpg\n",
            "[Error]Invalid image, not saving https://upload.wikimedia.org/wikipedia/commons/thumb/7/74/Delta_IV_launch_2013-08-28.jpg/1200px-Delta_IV_launch_2013-08-28.jpg\n",
            "\n",
            "[!] Issue getting: https://upload.wikimedia.org/wikipedia/commons/thumb/7/74/Delta_IV_launch_2013-08-28.jpg/1200px-Delta_IV_launch_2013-08-28.jpg\n",
            "[!] Error:: No active exception to reraise\n",
            "[%] Downloading Image #64 from http://4.bp.blogspot.com/-EZ5gh94pbYU/T1nQRZBRnZI/AAAAAAAABGA/JB3nnh80LhA/s1600/Saturn_V_Rocket.jpg\n",
            "[%] File Downloaded !\n",
            "\n",
            "[%] Downloading Image #65 from http://i.space.com/images/i/000/011/013/i02/soyuz-rocket-globalstar-launch-071311-2.jpg?1310799371\n",
            "[!] Issue getting: http://i.space.com/images/i/000/011/013/i02/soyuz-rocket-globalstar-launch-071311-2.jpg?1310799371\n",
            "[!] Error:: HTTP Error 308: Permanent Redirect\n",
            "[%] Downloading Image #65 from https://upload.wikimedia.org/wikipedia/commons/thumb/5/5c/Expedition_51_Rollout_(NHQ201704170027).jpg/1200px-Expedition_51_Rollout_(NHQ201704170027).jpg\n",
            "[%] File Downloaded !\n",
            "\n",
            "[%] Downloading Image #66 from https://upload.wikimedia.org/wikipedia/commons/thumb/3/37/STS-134_launch_2.ogv/1200px--STS-134_launch_2.ogv.jpg\n",
            "[Error]Invalid image, not saving https://upload.wikimedia.org/wikipedia/commons/thumb/3/37/STS-134_launch_2.ogv/1200px--STS-134_launch_2.ogv.jpg\n",
            "\n",
            "[!] Issue getting: https://upload.wikimedia.org/wikipedia/commons/thumb/3/37/STS-134_launch_2.ogv/1200px--STS-134_launch_2.ogv.jpg\n",
            "[!] Error:: No active exception to reraise\n",
            "[%] Downloading Image #66 from https://upload.wikimedia.org/wikipedia/commons/thumb/1/12/Delta_II_Dawn_liftoff_1.jpg/1200px-Delta_II_Dawn_liftoff_1.jpg\n",
            "[%] File Downloaded !\n",
            "\n",
            "[%] Downloading Image #67 from https://i.ytimg.com/vi/u7WshxUT8M8/maxresdefault.jpg\n",
            "[%] File Downloaded !\n",
            "\n",
            "[%] Downloading Image #68 from https://blogs.nasa.gov/Rocketology/wp-content/uploads/sites/251/2016/04/sls-70mt-dac3-orange-launch-rs25_0-624x424.jpg\n",
            "[%] File Downloaded !\n",
            "\n",
            "[%] Downloading Image #69 from https://i.ytimg.com/vi/tnegqUiu0QU/maxresdefault.jpg\n",
            "[%] File Downloaded !\n",
            "\n",
            "[%] Downloading Image #70 from https://i.ytimg.com/vi/3Q5jg-2zwpM/maxresdefault.jpg\n",
            "[%] File Downloaded !\n",
            "\n",
            "[%] Downloading Image #71 from https://upload.wikimedia.org/wikipedia/commons/e/e0/Rocket_League_coverart.jpg\n",
            "[%] File Downloaded !\n",
            "\n",
            "[%] Downloading Image #72 from http://blogs.nasa.gov/Rocketology/wp-content/uploads/sites/251/2015/11/IMG_1988-768x1024.jpg\n",
            "[%] File Downloaded !\n",
            "\n",
            "[%] Downloading Image #73 from https://upload.wikimedia.org/wikipedia/commons/thumb/6/6d/Fus%C3%A9e_V2.jpg/1200px-Fus%C3%A9e_V2.jpg\n",
            "[Error]Invalid image, not saving https://upload.wikimedia.org/wikipedia/commons/thumb/6/6d/Fus%C3%A9e_V2.jpg/1200px-Fus%C3%A9e_V2.jpg\n",
            "\n",
            "[!] Issue getting: https://upload.wikimedia.org/wikipedia/commons/thumb/6/6d/Fus%C3%A9e_V2.jpg/1200px-Fus%C3%A9e_V2.jpg\n",
            "[!] Error:: No active exception to reraise\n",
            "[%] Downloading Image #73 from https://upload.wikimedia.org/wikipedia/commons/thumb/f/f9/Terrier-Improved_Orion_sounding_rocket_launches_RockOn_2011_experiments_2.jpg/1200px-Terrier-Improved_Orion_sounding_rocket_launches_RockOn_2011_experiments_2.jpg\n",
            "[Error]Invalid image, not saving https://upload.wikimedia.org/wikipedia/commons/thumb/f/f9/Terrier-Improved_Orion_sounding_rocket_launches_RockOn_2011_experiments_2.jpg/1200px-Terrier-Improved_Orion_sounding_rocket_launches_RockOn_2011_experiments_2.jpg\n",
            "\n",
            "[!] Issue getting: https://upload.wikimedia.org/wikipedia/commons/thumb/f/f9/Terrier-Improved_Orion_sounding_rocket_launches_RockOn_2011_experiments_2.jpg/1200px-Terrier-Improved_Orion_sounding_rocket_launches_RockOn_2011_experiments_2.jpg\n",
            "[!] Error:: No active exception to reraise\n",
            "[%] Downloading Image #73 from https://upload.wikimedia.org/wikipedia/commons/thumb/b/bb/Atlas_D_with_Mercury-Atlas_5_%28Nov._29_1961%29.jpg/1200px-Atlas_D_with_Mercury-Atlas_5_%28Nov._29_1961%29.jpg\n",
            "[%] File Downloaded !\n",
            "\n",
            "[%] Downloading Image #74 from https://upload.wikimedia.org/wikipedia/commons/thumb/f/f8/JMS_0067Crop.jpg/1200px-JMS_0067Crop.jpg\n",
            "[%] File Downloaded !\n",
            "\n",
            "[%] Downloading Image #75 from https://upload.wikimedia.org/wikipedia/commons/1/14/Proton_Zvezda_crop.jpg\n",
            "[%] File Downloaded !\n",
            "\n",
            "[%] Downloading Image #76 from https://upload.wikimedia.org/wikipedia/commons/thumb/9/92/Mercury-Atlas_2_liftoff.jpg/1200px-Mercury-Atlas_2_liftoff.jpg\n",
            "[%] File Downloaded !\n",
            "\n",
            "[%] Downloading Image #77 from https://i.ytimg.com/vi/aH9JQ4Kash0/maxresdefault.jpg\n",
            "[%] File Downloaded !\n",
            "\n",
            "[%] Downloading Image #78 from https://upload.wikimedia.org/wikipedia/commons/thumb/6/6f/Vostok-2M_%288A292M%29_in_Korolyov%2C_Moscow_Oblast.jpg/1200px-Vostok-2M_%288A292M%29_in_Korolyov%2C_Moscow_Oblast.jpg\n",
            "[Error]Invalid image, not saving https://upload.wikimedia.org/wikipedia/commons/thumb/6/6f/Vostok-2M_%288A292M%29_in_Korolyov%2C_Moscow_Oblast.jpg/1200px-Vostok-2M_%288A292M%29_in_Korolyov%2C_Moscow_Oblast.jpg\n",
            "\n",
            "[!] Issue getting: https://upload.wikimedia.org/wikipedia/commons/thumb/6/6f/Vostok-2M_%288A292M%29_in_Korolyov%2C_Moscow_Oblast.jpg/1200px-Vostok-2M_%288A292M%29_in_Korolyov%2C_Moscow_Oblast.jpg\n",
            "[!] Error:: No active exception to reraise\n",
            "[%] Downloading Image #78 from http://upload.wikimedia.org/wikipedia/commons/0/0f/V-2_lift-off.jpg\n",
            "[%] File Downloaded !\n",
            "\n",
            "[%] Downloading Image #79 from http://blogs.nasa.gov/orion/wp-content/uploads/sites/239/2014/12/MST_moved_2.jpeg\n",
            "[%] File Downloaded !\n",
            "\n",
            "[%] Downloading Image #80 from http://2.bp.blogspot.com/-YvJnf3WgVFo/TtzUPQ6SdMI/AAAAAAAAAwo/L29JMkFwP_o/s1600/rocket-2-701199.jpg\n",
            "[%] File Downloaded !\n",
            "\n",
            "[%] Downloading Image #81 from https://i.ytimg.com/vi/bDoh8zQDT38/maxresdefault.jpg\n",
            "[%] File Downloaded !\n",
            "\n",
            "[%] Downloading Image #82 from https://upload.wikimedia.org/wikipedia/commons/thumb/8/80/Hera_rocket_on_launch_pad.jpg/300px-Hera_rocket_on_launch_pad.jpg\n",
            "[%] File Downloaded !\n",
            "\n",
            "[%] Downloading Image #83 from https://i.ytimg.com/vi/ddI3ZVLds_4/maxresdefault.jpg\n",
            "[%] File Downloaded !\n",
            "\n",
            "[%] Downloading Image #84 from https://i.ytimg.com/vi/iJc2OHl9vOw/maxresdefault.jpg\n",
            "[%] File Downloaded !\n",
            "\n",
            "[%] Downloading Image #85 from https://i.ytimg.com/vi/ulHd4g8Mmgw/maxresdefault.jpg\n",
            "[%] File Downloaded !\n",
            "\n",
            "[%] Downloading Image #86 from https://i.ytimg.com/vi/yjSQtW7dOpo/maxresdefault.jpg\n",
            "[%] File Downloaded !\n",
            "\n",
            "[%] Downloading Image #87 from https://i.pinimg.com/736x/90/b6/29/90b62997b10f1222c9d753558e612c6c--nasa-rocket-rocket-launch.jpg\n",
            "[%] File Downloaded !\n",
            "\n",
            "[%] Downloading Image #88 from https://upload.wikimedia.org/wikipedia/en/thumb/c/ca/Rohini_rocket.jpg/220px-Rohini_rocket.jpg\n",
            "[Error]Invalid image, not saving https://upload.wikimedia.org/wikipedia/en/thumb/c/ca/Rohini_rocket.jpg/220px-Rohini_rocket.jpg\n",
            "\n",
            "[!] Issue getting: https://upload.wikimedia.org/wikipedia/en/thumb/c/ca/Rohini_rocket.jpg/220px-Rohini_rocket.jpg\n",
            "[!] Error:: No active exception to reraise\n",
            "[%] Downloading Image #88 from https://upload.wikimedia.org/wikipedia/commons/0/01/S-5M_57_mm_rocket.jpg\n",
            "[%] File Downloaded !\n",
            "\n",
            "\n",
            "\n",
            "[!!]Indexing page: 2\n",
            "\n",
            "[%] Indexed 35 Images on Page 2.\n",
            "\n",
            "===============================================\n",
            "\n",
            "[%] Downloading Image #89 from https://upload.wikimedia.org/wikipedia/commons/thumb/1/14/Proton_Zvezda_crop.jpg/1200px-Proton_Zvezda_crop.jpg\n",
            "[%] File Downloaded !\n",
            "\n",
            "[%] Downloading Image #90 from https://upload.wikimedia.org/wikipedia/commons/thumb/f/ff/Juno_II_rocket.jpg/1200px-Juno_II_rocket.jpg\n",
            "[%] File Downloaded !\n",
            "\n",
            "[%] Downloading Image #91 from https://upload.wikimedia.org/wikipedia/commons/thumb/7/79/Semyorka_Rocket_R7_by_Sergei_Korolyov_in_VDNH_Ostankino_RAF0540.jpg/1200px-Semyorka_Rocket_R7_by_Sergei_Korolyov_in_VDNH_Ostankino_RAF0540.jpg\n",
            "[%] File Downloaded !\n",
            "\n",
            "[%] Downloading Image #92 from https://upload.wikimedia.org/wikipedia/commons/d/d6/Black_Brant.jpg\n",
            "[%] File Downloaded !\n",
            "\n",
            "[%] Downloading Image #93 from http://blogs.nasa.gov/Rocketology/wp-content/uploads/sites/251/2015/11/678411main_Apollo-4-Launch.jpg\n",
            "[%] File Downloaded !\n",
            "\n",
            "[%] Downloading Image #94 from https://upload.wikimedia.org/wikipedia/commons/thumb/6/6e/Athena_1_rocket_launching_from_Kodiak_Island.jpg/1200px-Athena_1_rocket_launching_from_Kodiak_Island.jpg\n",
            "[%] File Downloaded !\n",
            "\n",
            "[%] Downloading Image #95 from http://www.clker.com/cliparts/d/6/8/e/12581269711028989317ElectronicRU_Rocket-Picture.svg.hi.png\n",
            "[%] File Downloaded !\n",
            "\n",
            "[%] Downloading Image #96 from https://upload.wikimedia.org/wikipedia/commons/a/a5/Bumper.jpg\n",
            "[%] File Downloaded !\n",
            "\n",
            "[%] Downloading Image #97 from https://upload.wikimedia.org/wikipedia/commons/thumb/9/9a/Soyuz_TMA-9_launch.jpg/1200px-Soyuz_TMA-9_launch.jpg\n",
            "[Error]Invalid image, not saving https://upload.wikimedia.org/wikipedia/commons/thumb/9/9a/Soyuz_TMA-9_launch.jpg/1200px-Soyuz_TMA-9_launch.jpg\n",
            "\n",
            "[!] Issue getting: https://upload.wikimedia.org/wikipedia/commons/thumb/9/9a/Soyuz_TMA-9_launch.jpg/1200px-Soyuz_TMA-9_launch.jpg\n",
            "[!] Error:: No active exception to reraise\n",
            "[%] Downloading Image #97 from http://www.nasa.gov/centers/marshall/images/content/617953main_jsc2009e219018_3240x4861.jpg\n",
            "[%] File Downloaded !\n",
            "\n",
            "[%] Downloading Image #98 from https://upload.wikimedia.org/wikipedia/commons/thumb/2/2f/DF-SC-99-00074_cropped_and_rotated.jpeg/1200px-DF-SC-99-00074_cropped_and_rotated.jpeg\n",
            "[%] File Downloaded !\n",
            "\n",
            "[%] Downloading Image #99 from https://upload.wikimedia.org/wikipedia/commons/thumb/8/8b/Saturn_SA9_launch.jpg/1920px-Saturn_SA9_launch.jpg\n",
            "[%] File Downloaded !\n",
            "\n",
            "[%] Downloading Image #100 from https://upload.wikimedia.org/wikipedia/commons/thumb/6/6d/Cohete_Tronador_II.JPG/1200px-Cohete_Tronador_II.JPG\n",
            "[%] File Downloaded !\n",
            "\n",
            "\n",
            "\n",
            "[%] Done. Downloaded 100 images.\n",
            "\n",
            "===============================================\n",
            "\n"
          ],
          "name": "stdout"
        }
      ]
    },
    {
      "cell_type": "code",
      "metadata": {
        "id": "GTv6pdGvF0g7",
        "colab_type": "code",
        "colab": {
          "base_uri": "https://localhost:8080/",
          "height": 287
        },
        "outputId": "86e2da01-5341-4088-f21a-8e33b676b36e"
      },
      "source": [
        "path = '/content/drive/My Drive/images/rocket/Image_1.jpg'\n",
        "import cv2\n",
        "import matplotlib.pyplot as plt\n",
        "\n",
        "i = cv2.imread(path)\n",
        "i = cv2.cvtColor(i,cv2.COLOR_BGR2RGB)\n",
        "plt.imshow(i)"
      ],
      "execution_count": 30,
      "outputs": [
        {
          "output_type": "execute_result",
          "data": {
            "text/plain": [
              "<matplotlib.image.AxesImage at 0x7fe646b52a58>"
            ]
          },
          "metadata": {
            "tags": []
          },
          "execution_count": 30
        },
        {
          "output_type": "display_data",
          "data": {
            "image/png": "[encoded data removed]",
            "text/plain": [
              "<Figure size 432x288 with 1 Axes>"
            ]
          },
          "metadata": {
            "tags": [],
            "needs_background": "light"
          }
        }
      ]
    },
    {
      "cell_type": "code",
      "metadata": {
        "id": "RtFNs7kRGWbJ",
        "colab_type": "code",
        "colab": {
          "base_uri": "https://localhost:8080/",
          "height": 1000
        },
        "outputId": "047f44f0-d203-4de9-d63e-174d5fb597ea"
      },
      "source": [
        "downloader.download(\"ship\",limit = 100, output_dir = 'images')"
      ],
      "execution_count": 31,
      "outputs": [
        {
          "output_type": "stream",
          "text": [
            "\n",
            "\n",
            "[!!]Indexing page: 1\n",
            "\n",
            "[%] Indexed 100 Images on Page 1.\n",
            "\n",
            "===============================================\n",
            "\n",
            "[%] Downloading Image #1 from http://4.bp.blogspot.com/_0jh5KGZ_hTw/S-dMvPKmq6I/AAAAAAAAETw/qFBiy-91P_c/s1600/Cruise_Ship_2.jpg\n",
            "[%] File Downloaded !\n",
            "\n",
            "[%] Downloading Image #2 from http://www.charterworld.com/news/wp-content/uploads/2011/03/43-metre-motor-yacht-BaiaMare-by-Ned-Ship-Group.jpg\n",
            "[%] File Downloaded !\n",
            "\n",
            "[%] Downloading Image #3 from http://icestories.exploratorium.edu/dispatches/wp-content/uploads/2008/01/transportation_ship4.jpg\n",
            "[%] File Downloaded !\n",
            "\n",
            "[%] Downloading Image #4 from http://rack.1.mshcdn.com/media/ZgkyMDEyLzEyLzA0LzU3L2l0YWxpYW5jcnVpLmFaVi5qcGcKcAl0aHVtYgk5NTB4NTM0IwplCWpwZw/582b1b96/76c/italian-cruise-ship-s-dangerous-path-posted-to-facebook-before-crash-a4e79fcbf9.jpg\n",
            "[%] File Downloaded !\n",
            "\n",
            "[%] Downloading Image #5 from https://upload.wikimedia.org/wikipedia/commons/thumb/b/be/Christian_Radich_aft_foto_Ulrich_Grun.jpg/1200px-Christian_Radich_aft_foto_Ulrich_Grun.jpg\n",
            "[%] File Downloaded !\n",
            "\n",
            "[%] Downloading Image #6 from https://upload.wikimedia.org/wikipedia/commons/thumb/b/ba/Carnival_Destiny_in_Castries%2C_St._Lucia_2.jpg/1200px-Carnival_Destiny_in_Castries%2C_St._Lucia_2.jpg\n",
            "[%] File Downloaded !\n",
            "\n",
            "[%] Downloading Image #7 from https://upload.wikimedia.org/wikipedia/commons/thumb/3/39/Amsterdam_Sail_2010_0819_Gotheborg_02.jpg/1200px-Amsterdam_Sail_2010_0819_Gotheborg_02.jpg\n",
            "[%] File Downloaded !\n",
            "\n",
            "[%] Downloading Image #8 from https://www.gannett-cdn.com/media/USATODAY/cruiselog/2012/11/29/breakaway-16_9.jpg?width=3200&amp;height=1680&amp;fit=crop\n",
            "[%] File Downloaded !\n",
            "\n",
            "[%] Downloading Image #9 from https://i.ytimg.com/vi/kd24qHMSm_Y/maxresdefault.jpg\n",
            "[%] File Downloaded !\n",
            "\n",
            "[%] Downloading Image #10 from https://i.ytimg.com/vi/dI8yxYFsEiw/maxresdefault.jpg\n",
            "[%] File Downloaded !\n",
            "\n",
            "[%] Downloading Image #11 from https://i.ytimg.com/vi/NP2HimGDDv0/maxresdefault.jpg\n",
            "[%] File Downloaded !\n",
            "\n",
            "[%] Downloading Image #12 from https://upload.wikimedia.org/wikipedia/commons/9/96/Prinsendam_1.jpg\n",
            "[%] File Downloaded !\n",
            "\n",
            "[%] Downloading Image #13 from https://upload.wikimedia.org/wikipedia/commons/thumb/7/7a/Russian_Navy_310_Perekop_MOD_45164814.jpg/1200px-Russian_Navy_310_Perekop_MOD_45164814.jpg\n",
            "[%] File Downloaded !\n",
            "\n",
            "[%] Downloading Image #14 from https://upload.wikimedia.org/wikipedia/commons/thumb/4/43/USS_Liberty_%28AGTR-5%29_underway_in_Chesapeake_Bay_on_29_July_1967_%28K-39927%29.jpg/1200px-USS_Liberty_%28AGTR-5%29_underway_in_Chesapeake_Bay_on_29_July_1967_%28K-39927%29.jpg\n",
            "[Error]Invalid image, not saving https://upload.wikimedia.org/wikipedia/commons/thumb/4/43/USS_Liberty_%28AGTR-5%29_underway_in_Chesapeake_Bay_on_29_July_1967_%28K-39927%29.jpg/1200px-USS_Liberty_%28AGTR-5%29_underway_in_Chesapeake_Bay_on_29_July_1967_%28K-39927%29.jpg\n",
            "\n",
            "[!] Issue getting: https://upload.wikimedia.org/wikipedia/commons/thumb/4/43/USS_Liberty_%28AGTR-5%29_underway_in_Chesapeake_Bay_on_29_July_1967_%28K-39927%29.jpg/1200px-USS_Liberty_%28AGTR-5%29_underway_in_Chesapeake_Bay_on_29_July_1967_%28K-39927%29.jpg\n",
            "[!] Error:: No active exception to reraise\n",
            "[%] Downloading Image #14 from https://upload.wikimedia.org/wikipedia/commons/thumb/2/28/Tall_ships_antwerp_2010_Morgenster.jpg/1200px-Tall_ships_antwerp_2010_Morgenster.jpg\n",
            "[%] File Downloaded !\n",
            "\n",
            "[%] Downloading Image #15 from https://upload.wikimedia.org/wikipedia/commons/thumb/f/fa/2001_Royal_Clipper_Karibik_020.jpg/1200px-2001_Royal_Clipper_Karibik_020.jpg\n",
            "[%] File Downloaded !\n",
            "\n",
            "[%] Downloading Image #16 from https://upload.wikimedia.org/wikipedia/commons/c/c1/Noordam.jpg\n",
            "[%] File Downloaded !\n",
            "\n",
            "[%] Downloading Image #17 from https://upload.wikimedia.org/wikipedia/commons/thumb/c/ce/S%C3%B8rlandet_in_Oslo_7jun2005.jpg/1200px-S%C3%B8rlandet_in_Oslo_7jun2005.jpg\n",
            "[%] File Downloaded !\n",
            "\n",
            "[%] Downloading Image #18 from https://upload.wikimedia.org/wikipedia/commons/1/14/USS_Winston_S._Churchill.jpg\n",
            "[%] File Downloaded !\n",
            "\n",
            "[%] Downloading Image #19 from https://i.ytimg.com/vi/FrwuyUmDgmI/maxresdefault.jpg\n",
            "[%] File Downloaded !\n",
            "\n",
            "[%] Downloading Image #20 from https://upload.wikimedia.org/wikipedia/commons/thumb/d/de/HMS_Echo_MOD_45155676.jpg/1200px-HMS_Echo_MOD_45155676.jpg\n",
            "[%] File Downloaded !\n",
            "\n",
            "[%] Downloading Image #21 from https://upload.wikimedia.org/wikipedia/commons/thumb/2/2d/Dawn_Princess_01.jpg/1200px-Dawn_Princess_01.jpg\n",
            "[%] File Downloaded !\n",
            "\n",
            "[%] Downloading Image #22 from https://i.ytimg.com/vi/ka1gD3Ns5w0/maxresdefault.jpg\n",
            "[%] File Downloaded !\n",
            "\n",
            "[%] Downloading Image #23 from https://i.ytimg.com/vi/0DxE-dZomqE/maxresdefault.jpg\n",
            "[%] File Downloaded !\n",
            "\n",
            "[%] Downloading Image #24 from https://upload.wikimedia.org/wikipedia/commons/thumb/3/39/Celebrity_Solstice_in_Port_Melbourne%2C_Australia_Dec_2012_%2801%29.jpg/1200px-Celebrity_Solstice_in_Port_Melbourne%2C_Australia_Dec_2012_%2801%29.jpg\n",
            "[%] File Downloaded !\n",
            "\n",
            "[%] Downloading Image #25 from https://upload.wikimedia.org/wikipedia/commons/thumb/9/92/Ocean_Countess_Helsinki_2010-07-05.JPG/1200px-Ocean_Countess_Helsinki_2010-07-05.JPG\n",
            "[Error]Invalid image, not saving https://upload.wikimedia.org/wikipedia/commons/thumb/9/92/Ocean_Countess_Helsinki_2010-07-05.JPG/1200px-Ocean_Countess_Helsinki_2010-07-05.JPG\n",
            "\n",
            "[!] Issue getting: https://upload.wikimedia.org/wikipedia/commons/thumb/9/92/Ocean_Countess_Helsinki_2010-07-05.JPG/1200px-Ocean_Countess_Helsinki_2010-07-05.JPG\n",
            "[!] Error:: No active exception to reraise\n",
            "[%] Downloading Image #25 from https://i.ytimg.com/vi/gut6R-LEMW4/maxresdefault.jpg\n",
            "[%] File Downloaded !\n",
            "\n",
            "[%] Downloading Image #26 from https://i.ytimg.com/vi/iGPnh8G9Y70/maxresdefault.jpg\n",
            "[%] File Downloaded !\n",
            "\n",
            "[%] Downloading Image #27 from https://upload.wikimedia.org/wikipedia/commons/thumb/e/e9/Silver_Cloud-1.jpg/1200px-Silver_Cloud-1.jpg\n",
            "[%] File Downloaded !\n",
            "\n",
            "[%] Downloading Image #28 from https://upload.wikimedia.org/wikipedia/commons/thumb/b/b3/Zenith_(ship%2C_1992).jpg/1200px-Zenith_(ship%2C_1992).jpg\n",
            "[Error]Invalid image, not saving https://upload.wikimedia.org/wikipedia/commons/thumb/b/b3/Zenith_(ship%2C_1992).jpg/1200px-Zenith_(ship%2C_1992).jpg\n",
            "\n",
            "[!] Issue getting: https://upload.wikimedia.org/wikipedia/commons/thumb/b/b3/Zenith_(ship%2C_1992).jpg/1200px-Zenith_(ship%2C_1992).jpg\n",
            "[!] Error:: No active exception to reraise\n",
            "[%] Downloading Image #28 from https://upload.wikimedia.org/wikipedia/commons/thumb/1/11/Tatoosh_paul_allen_malta.jpg/1200px-Tatoosh_paul_allen_malta.jpg\n",
            "[%] File Downloaded !\n",
            "\n",
            "[%] Downloading Image #29 from https://upload.wikimedia.org/wikipedia/commons/thumb/b/b7/RFA_Mounts_Bay%2C_a_Landing_Ship_Dock_(Auxiliary)_(LSD(A))%2C_leaving_Portsmouth_Dockyard_MOD_45145830.jpg/1200px-RFA_Mounts_Bay%2C_a_Landing_Ship_Dock_(Auxiliary)_(LSD(A))%2C_leaving_Portsmouth_Dockyard_MOD_45145830.jpg\n",
            "[%] File Downloaded !\n",
            "\n",
            "[%] Downloading Image #30 from https://i.ytimg.com/vi/uqAEe1n6fQU/hqdefault.jpg\n",
            "[%] File Downloaded !\n",
            "\n",
            "[%] Downloading Image #31 from https://i.ytimg.com/vi/IcmrRqwpKg4/maxresdefault.jpg\n",
            "[%] File Downloaded !\n",
            "\n",
            "[%] Downloading Image #32 from https://upload.wikimedia.org/wikipedia/commons/thumb/9/9a/MS_Freedom_of_the_Seas_in_its_maiden_voyage.jpg/220px-MS_Freedom_of_the_Seas_in_its_maiden_voyage.jpg\n",
            "[%] File Downloaded !\n",
            "\n",
            "[%] Downloading Image #33 from https://upload.wikimedia.org/wikipedia/commons/thumb/c/c1/US_Navy_090818-N-0167W-042_USS_Constitution_crewmember_Boatswains_Mate_2nd_Class_Garrett_Renner_guides_a_team_of_Navy_chief_selects_in_the_port_whaleboat_of_USS_Constitution.jpg/1200px-thumbnail.jpg\n",
            "[%] File Downloaded !\n",
            "\n",
            "[%] Downloading Image #34 from https://upload.wikimedia.org/wikipedia/commons/thumb/2/23/Seabourn_Encore_%28ship%2C_2016%29%2C_S%C3%A8te_cf01.jpg/1200px-Seabourn_Encore_%28ship%2C_2016%29%2C_S%C3%A8te_cf01.jpg\n",
            "[%] File Downloaded !\n",
            "\n",
            "[%] Downloading Image #35 from https://upload.wikimedia.org/wikipedia/commons/thumb/f/ff/Amadea_%28ship%2C_1991%29_IMO_8913162%3B_in_Split%2C_2011-11-14_%282%29.jpg/1200px-Amadea_%28ship%2C_1991%29_IMO_8913162%3B_in_Split%2C_2011-11-14_%282%29.jpg\n",
            "[%] File Downloaded !\n",
            "\n",
            "[%] Downloading Image #36 from https://upload.wikimedia.org/wikipedia/commons/thumb/2/2d/Le_paquebot_de_croisi%C3%A8re_MS_Star_Legend_%281%29.JPG/1200px-Le_paquebot_de_croisi%C3%A8re_MS_Star_Legend_%281%29.JPG\n",
            "[%] File Downloaded !\n",
            "\n",
            "[%] Downloading Image #37 from https://upload.wikimedia.org/wikipedia/commons/thumb/6/68/Eendracht.jpg/1200px-Eendracht.jpg\n",
            "[%] File Downloaded !\n",
            "\n",
            "[%] Downloading Image #38 from https://upload.wikimedia.org/wikipedia/commons/thumb/7/7d/Rostock_asv2018-05_img63_Warnemuende_port.jpg/1200px-Rostock_asv2018-05_img63_Warnemuende_port.jpg\n",
            "[%] File Downloaded !\n",
            "\n",
            "[%] Downloading Image #39 from https://i.ytimg.com/vi/YbX7kkdE3e4/maxresdefault.jpg\n",
            "[%] File Downloaded !\n",
            "\n",
            "[%] Downloading Image #40 from https://upload.wikimedia.org/wikipedia/commons/thumb/3/33/EV_Nautilus.jpg/1200px-EV_Nautilus.jpg\n",
            "[%] File Downloaded !\n",
            "\n",
            "[%] Downloading Image #41 from https://upload.wikimedia.org/wikipedia/commons/thumb/6/6f/Windstar_star_breeze_cruise_ship_in_Saranda_Albania_2016.jpg/1200px-Windstar_star_breeze_cruise_ship_in_Saranda_Albania_2016.jpg\n",
            "[%] File Downloaded !\n",
            "\n",
            "[%] Downloading Image #42 from https://upload.wikimedia.org/wikipedia/commons/b/b4/The_ocean_liner_which_has_never_been.jpg\n",
            "[%] File Downloaded !\n",
            "\n",
            "[%] Downloading Image #43 from https://upload.wikimedia.org/wikipedia/commons/thumb/f/f3/Yavari_steamboat20050915.jpg/1200px-Yavari_steamboat20050915.jpg\n",
            "[%] File Downloaded !\n",
            "\n",
            "[%] Downloading Image #44 from https://upload.wikimedia.org/wikipedia/commons/thumb/d/d8/Colombian_Training_Ship_ARC_%22Gloria%22.jpg/225px-Colombian_Training_Ship_ARC_%22Gloria%22.jpg\n",
            "[%] File Downloaded !\n",
            "\n",
            "[%] Downloading Image #45 from https://upload.wikimedia.org/wikipedia/commons/thumb/4/48/USNS_Range_Sentinel_T-AGM-22_DNSC8510327.jpg/1200px-USNS_Range_Sentinel_T-AGM-22_DNSC8510327.jpg\n",
            "[%] File Downloaded !\n",
            "\n",
            "[%] Downloading Image #46 from https://i.ytimg.com/vi/tLFNz9ZSUDg/maxresdefault.jpg\n",
            "[%] File Downloaded !\n",
            "\n",
            "[%] Downloading Image #47 from https://upload.wikimedia.org/wikipedia/commons/thumb/a/a7/E-Ship_1_vorne.JPG/1200px-E-Ship_1_vorne.JPG\n",
            "[%] File Downloaded !\n",
            "\n",
            "[%] Downloading Image #48 from https://upload.wikimedia.org/wikipedia/commons/thumb/a/aa/Balclutha_2016.jpg/1200px-Balclutha_2016.jpg\n",
            "[%] File Downloaded !\n",
            "\n",
            "[%] Downloading Image #49 from https://i.ytimg.com/vi/YNTVEtnd5zw/maxresdefault.jpg\n",
            "[%] File Downloaded !\n",
            "\n",
            "[%] Downloading Image #50 from https://i.ytimg.com/vi/1riClGPQjTI/maxresdefault.jpg\n",
            "[%] File Downloaded !\n",
            "\n",
            "[%] Downloading Image #51 from https://upload.wikimedia.org/wikipedia/commons/d/d8/%22Paul_Gauguin%22_-_Malolo_island%2C_2007.jpg\n",
            "[%] File Downloaded !\n",
            "\n",
            "[%] Downloading Image #52 from https://static01.nyt.com/images/2015/07/02/arts/03hermione-ship/03hermione-ship-facebookJumbo.jpg\n",
            "[%] File Downloaded !\n",
            "\n",
            "[%] Downloading Image #53 from https://i.pinimg.com/736x/9a/df/42/9adf4287a1598326c56a8f32b02a6898--architecture-photo-naval-architecture.jpg?b=t\n",
            "[%] File Downloaded !\n",
            "\n",
            "[%] Downloading Image #54 from https://i.ytimg.com/vi/ARrfP_-55gg/maxresdefault.jpg\n",
            "[%] File Downloaded !\n",
            "\n",
            "[%] Downloading Image #55 from https://i.ytimg.com/vi/9UOcg-ls7bs/maxresdefault.jpg\n",
            "[%] File Downloaded !\n",
            "\n",
            "[%] Downloading Image #56 from https://i.ytimg.com/vi/g6qKc0uKmZs/maxresdefault.jpg\n",
            "[%] File Downloaded !\n",
            "\n",
            "[%] Downloading Image #57 from https://upload.wikimedia.org/wikipedia/commons/thumb/d/d9/Victory_Portsmouth_um_1900.jpg/1200px-Victory_Portsmouth_um_1900.jpg\n",
            "[%] File Downloaded !\n",
            "\n",
            "[%] Downloading Image #58 from https://upload.wikimedia.org/wikipedia/commons/thumb/0/0c/Cable_layer_ship.jpg/1200px-Cable_layer_ship.jpg\n",
            "[%] File Downloaded !\n",
            "\n",
            "[%] Downloading Image #59 from https://upload.wikimedia.org/wikipedia/commons/thumb/0/07/Constanta_shipyard.JPG/1200px-Constanta_shipyard.JPG\n",
            "[%] File Downloaded !\n",
            "\n",
            "[%] Downloading Image #60 from https://upload.wikimedia.org/wikipedia/commons/thumb/9/94/Viana_do_Castelo_-_panoramio_(62).jpg/1200px-Viana_do_Castelo_-_panoramio_(62).jpg\n",
            "[Error]Invalid image, not saving https://upload.wikimedia.org/wikipedia/commons/thumb/9/94/Viana_do_Castelo_-_panoramio_(62).jpg/1200px-Viana_do_Castelo_-_panoramio_(62).jpg\n",
            "\n",
            "[!] Issue getting: https://upload.wikimedia.org/wikipedia/commons/thumb/9/94/Viana_do_Castelo_-_panoramio_(62).jpg/1200px-Viana_do_Castelo_-_panoramio_(62).jpg\n",
            "[!] Error:: No active exception to reraise\n",
            "[%] Downloading Image #60 from https://upload.wikimedia.org/wikipedia/commons/thumb/d/d1/Lightship_Finngrundet.jpg/1920px-Lightship_Finngrundet.jpg\n",
            "[%] File Downloaded !\n",
            "\n",
            "[%] Downloading Image #61 from https://upload.wikimedia.org/wikipedia/commons/thumb/5/5f/Shtandart_cropped.jpg/1200px-Shtandart_cropped.jpg\n",
            "[%] File Downloaded !\n",
            "\n",
            "[%] Downloading Image #62 from https://upload.wikimedia.org/wikipedia/commons/thumb/d/d3/Marseillois_IMG_5944-white.jpg/1200px-Marseillois_IMG_5944-white.jpg\n",
            "[%] File Downloaded !\n",
            "\n",
            "[%] Downloading Image #63 from https://i.ytimg.com/vi/fWpYoY8rJ0w/hqdefault.jpg\n",
            "[%] File Downloaded !\n",
            "\n",
            "[%] Downloading Image #64 from https://upload.wikimedia.org/wikipedia/commons/thumb/d/d1/Azura_departing_Port_of_Tallinn_12_June_2016.jpg/1200px-Azura_departing_Port_of_Tallinn_12_June_2016.jpg\n",
            "[%] File Downloaded !\n",
            "\n",
            "[%] Downloading Image #65 from https://i.ytimg.com/vi/3Ob9v-jfToI/hqdefault.jpg\n",
            "[%] File Downloaded !\n",
            "\n",
            "[%] Downloading Image #66 from https://i.ytimg.com/vi/yFSK6npejvY/hqdefault.jpg\n",
            "[%] File Downloaded !\n",
            "\n",
            "[%] Downloading Image #67 from https://upload.wikimedia.org/wikipedia/commons/thumb/d/d8/P%26O_Ventura.jpg/1200px-P%26O_Ventura.jpg\n",
            "[Error]Invalid image, not saving https://upload.wikimedia.org/wikipedia/commons/thumb/d/d8/P%26O_Ventura.jpg/1200px-P%26O_Ventura.jpg\n",
            "\n",
            "[!] Issue getting: https://upload.wikimedia.org/wikipedia/commons/thumb/d/d8/P%26O_Ventura.jpg/1200px-P%26O_Ventura.jpg\n",
            "[!] Error:: No active exception to reraise\n",
            "[%] Downloading Image #67 from https://i.ytimg.com/vi/JaTfqRN3IrM/maxresdefault.jpg\n",
            "[%] File Downloaded !\n",
            "\n",
            "[%] Downloading Image #68 from https://i.ytimg.com/vi/wZWw-RY5p28/maxresdefault.jpg\n",
            "[%] File Downloaded !\n",
            "\n",
            "[%] Downloading Image #69 from https://upload.wikimedia.org/wikipedia/commons/thumb/3/3c/Pacific_Sun_and_James_Craig.jpg/1200px-Pacific_Sun_and_James_Craig.jpg\n",
            "[%] File Downloaded !\n",
            "\n",
            "[%] Downloading Image #70 from https://upload.wikimedia.org/wikipedia/commons/thumb/3/39/A38_1.jpg/1200px-A38_1.jpg\n",
            "[%] File Downloaded !\n",
            "\n",
            "[%] Downloading Image #71 from https://upload.wikimedia.org/wikipedia/commons/thumb/a/aa/Ms_Rotterdam_VI_nwe_Waterweg.jpg/1200px-Ms_Rotterdam_VI_nwe_Waterweg.jpg\n",
            "[Error]Invalid image, not saving https://upload.wikimedia.org/wikipedia/commons/thumb/a/aa/Ms_Rotterdam_VI_nwe_Waterweg.jpg/1200px-Ms_Rotterdam_VI_nwe_Waterweg.jpg\n",
            "\n",
            "[!] Issue getting: https://upload.wikimedia.org/wikipedia/commons/thumb/a/aa/Ms_Rotterdam_VI_nwe_Waterweg.jpg/1200px-Ms_Rotterdam_VI_nwe_Waterweg.jpg\n",
            "[!] Error:: No active exception to reraise\n",
            "[%] Downloading Image #71 from https://upload.wikimedia.org/wikipedia/commons/thumb/c/c9/MV_Silver_Spirit-1.JPG/1200px-MV_Silver_Spirit-1.JPG\n",
            "[%] File Downloaded !\n",
            "\n",
            "[%] Downloading Image #72 from https://i.ytimg.com/vi/qG0xhczYHcE/hqdefault.jpg\n",
            "[%] File Downloaded !\n",
            "\n",
            "[%] Downloading Image #73 from https://upload.wikimedia.org/wikipedia/commons/thumb/4/4f/Peacemaker.jpg/1200px-Peacemaker.jpg\n",
            "[%] File Downloaded !\n",
            "\n",
            "[%] Downloading Image #74 from https://upload.wikimedia.org/wikipedia/commons/thumb/9/9a/Marco_Polo_2_August_2012_Tallinn.JPG/1200px-Marco_Polo_2_August_2012_Tallinn.JPG\n",
            "[%] File Downloaded !\n",
            "\n",
            "[%] Downloading Image #75 from https://i.ytimg.com/vi/4cTqfP2KfCA/maxresdefault.jpg\n",
            "[%] File Downloaded !\n",
            "\n",
            "[%] Downloading Image #76 from https://i.ytimg.com/vi/yPfynLFBjp4/maxresdefault.jpg\n",
            "[%] File Downloaded !\n",
            "\n",
            "[%] Downloading Image #77 from https://upload.wikimedia.org/wikipedia/commons/c/cc/Cargo_E-Ship_1%2C_Emder_Hafen%2C_CN-03.jpg\n",
            "[%] File Downloaded !\n",
            "\n",
            "[%] Downloading Image #78 from https://i.ytimg.com/vi/GFMMphZIp3s/maxresdefault.jpg\n",
            "[%] File Downloaded !\n",
            "\n",
            "[%] Downloading Image #79 from https://i.ytimg.com/vi/blLj7kTX8yo/hqdefault.jpg\n",
            "[%] File Downloaded !\n",
            "\n",
            "[%] Downloading Image #80 from https://upload.wikimedia.org/wikipedia/en/9/99/Scarborough_%281782_ship%29.jpg\n",
            "[%] File Downloaded !\n",
            "\n",
            "[%] Downloading Image #81 from https://upload.wikimedia.org/wikipedia/commons/thumb/1/1c/Kaliningrad2004Cartagena.jpg/1200px-Kaliningrad2004Cartagena.jpg\n",
            "[%] File Downloaded !\n",
            "\n",
            "[%] Downloading Image #82 from https://upload.wikimedia.org/wikipedia/commons/thumb/5/50/Sirena_anchored_in_Sorrento.jpg/1200px-Sirena_anchored_in_Sorrento.jpg\n",
            "[%] File Downloaded !\n",
            "\n",
            "[%] Downloading Image #83 from https://upload.wikimedia.org/wikipedia/commons/thumb/7/7b/PictonCastle-AnchoredOffCarriacou-March14-09.jpg/1200px-PictonCastle-AnchoredOffCarriacou-March14-09.jpg\n",
            "[%] File Downloaded !\n",
            "\n",
            "[%] Downloading Image #84 from https://upload.wikimedia.org/wikipedia/commons/c/c9/Preussen_-_StateLibQld_70_73320.jpg\n",
            "[%] File Downloaded !\n",
            "\n",
            "[%] Downloading Image #85 from https://3.bp.blogspot.com/-JCrwJiMwuBo/VrvdZmMq-nI/AAAAAAAAD3c/3N5PV6zWqUU/s1600/6.jpg\n",
            "[%] File Downloaded !\n",
            "\n",
            "[%] Downloading Image #86 from https://i.ytimg.com/vi/5kDbwE7mFck/hqdefault.jpg\n",
            "[%] File Downloaded !\n",
            "\n",
            "[%] Downloading Image #87 from https://i.ytimg.com/vi/vuJRX6vo7xU/maxresdefault.jpg\n",
            "[%] File Downloaded !\n",
            "\n",
            "[%] Downloading Image #88 from https://i.ytimg.com/vi/Ahxfb7ItLOw/maxresdefault.jpg\n",
            "[%] File Downloaded !\n",
            "\n",
            "[%] Downloading Image #89 from https://upload.wikimedia.org/wikipedia/commons/thumb/2/28/Astoria_departing_Tallinn_20_June_2016.jpg/1200px-Astoria_departing_Tallinn_20_June_2016.jpg\n",
            "[%] File Downloaded !\n",
            "\n",
            "[%] Downloading Image #90 from https://i.ytimg.com/vi/8eNek2I3AO4/maxresdefault.jpg\n",
            "[%] File Downloaded !\n",
            "\n",
            "[%] Downloading Image #91 from https://i.ytimg.com/vi/Ai-b0gOS5sA/hqdefault.jpg\n",
            "[%] File Downloaded !\n",
            "\n",
            "[%] Downloading Image #92 from https://upload.wikimedia.org/wikipedia/commons/thumb/6/63/MV_American_Tern_at_McMurdo_Sound.jpg/1920px-MV_American_Tern_at_McMurdo_Sound.jpg\n",
            "[%] File Downloaded !\n",
            "\n",
            "[%] Downloading Image #93 from https://upload.wikimedia.org/wikipedia/commons/6/63/%22City_of_Poros%22_-_1988.jpg\n",
            "[%] File Downloaded !\n",
            "\n",
            "[%] Downloading Image #94 from https://upload.wikimedia.org/wikipedia/commons/thumb/0/0f/Fight_of_the_Poursuivante_mp3h9426.jpg/1200px-Fight_of_the_Poursuivante_mp3h9426.jpg\n",
            "[Error]Invalid image, not saving https://upload.wikimedia.org/wikipedia/commons/thumb/0/0f/Fight_of_the_Poursuivante_mp3h9426.jpg/1200px-Fight_of_the_Poursuivante_mp3h9426.jpg\n",
            "\n",
            "[!] Issue getting: https://upload.wikimedia.org/wikipedia/commons/thumb/0/0f/Fight_of_the_Poursuivante_mp3h9426.jpg/1200px-Fight_of_the_Poursuivante_mp3h9426.jpg\n",
            "[!] Error:: No active exception to reraise\n",
            "\n",
            "\n",
            "[!!]Indexing page: 2\n",
            "\n",
            "[%] Indexed 35 Images on Page 2.\n",
            "\n",
            "===============================================\n",
            "\n",
            "[%] Downloading Image #94 from http://4.bp.blogspot.com/_0jh5KGZ_hTw/S-dMvPKmq6I/AAAAAAAAETw/qFBiy-91P_c/s1600/Cruise_Ship_2.jpg\n",
            "[%] File Downloaded !\n",
            "\n",
            "[%] Downloading Image #95 from http://www.charterworld.com/news/wp-content/uploads/2011/03/43-metre-motor-yacht-BaiaMare-by-Ned-Ship-Group.jpg\n",
            "[%] File Downloaded !\n",
            "\n",
            "[%] Downloading Image #96 from http://icestories.exploratorium.edu/dispatches/wp-content/uploads/2008/01/transportation_ship4.JPG\n",
            "[!] Issue getting: http://icestories.exploratorium.edu/dispatches/wp-content/uploads/2008/01/transportation_ship4.JPG\n",
            "[!] Error:: HTTP Error 404: Not Found\n",
            "[%] Downloading Image #96 from http://rack.1.mshcdn.com/media/ZgkyMDEyLzEyLzA0LzU3L2l0YWxpYW5jcnVpLmFaVi5qcGcKcAl0aHVtYgk5NTB4NTM0IwplCWpwZw/582b1b96/76c/italian-cruise-ship-s-dangerous-path-posted-to-facebook-before-crash-a4e79fcbf9.jpg\n",
            "[%] File Downloaded !\n",
            "\n",
            "[%] Downloading Image #97 from https://upload.wikimedia.org/wikipedia/commons/thumb/b/be/Christian_Radich_aft_foto_Ulrich_Grun.jpg/1200px-Christian_Radich_aft_foto_Ulrich_Grun.jpg\n",
            "[%] File Downloaded !\n",
            "\n",
            "[%] Downloading Image #98 from https://upload.wikimedia.org/wikipedia/commons/thumb/b/ba/Carnival_Destiny_in_Castries%2C_St._Lucia_2.jpg/1200px-Carnival_Destiny_in_Castries%2C_St._Lucia_2.jpg\n",
            "[%] File Downloaded !\n",
            "\n",
            "[%] Downloading Image #99 from https://upload.wikimedia.org/wikipedia/commons/thumb/3/39/Amsterdam_Sail_2010_0819_Gotheborg_02.jpg/1200px-Amsterdam_Sail_2010_0819_Gotheborg_02.jpg\n",
            "[%] File Downloaded !\n",
            "\n",
            "[%] Downloading Image #100 from https://www.gannett-cdn.com/media/USATODAY/cruiselog/2012/11/29/breakaway-16_9.jpg?width=3200&amp;height=1680&amp;fit=crop\n",
            "[%] File Downloaded !\n",
            "\n",
            "\n",
            "\n",
            "[%] Done. Downloaded 100 images.\n",
            "\n",
            "===============================================\n",
            "\n"
          ],
          "name": "stdout"
        }
      ]
    },
    {
      "cell_type": "code",
      "metadata": {
        "id": "gO_dj9MMHWaU",
        "colab_type": "code",
        "colab": {
          "base_uri": "https://localhost:8080/",
          "height": 1000
        },
        "outputId": "6aaf0d0d-6d08-4a13-a381-6058ee2bf313"
      },
      "source": [
        "import os\n",
        "import cv2\n",
        "path = '/content/drive/My Drive/images/rocket'\n",
        "for filename in os.listdir(path):\n",
        "  i = cv2.imread(os.path.join(path,filename))\n",
        "  print(i.shape)\n"
      ],
      "execution_count": 34,
      "outputs": [
        {
          "output_type": "stream",
          "text": [
            "(1747, 1200, 3)\n",
            "(1760, 1200, 3)\n",
            "(1600, 1200, 3)\n",
            "(1183, 942, 3)\n",
            "(2226, 2302, 3)\n",
            "(1780, 1200, 3)\n",
            "(1257, 755, 3)\n",
            "(1546, 1200, 3)\n",
            "(688, 942, 3)\n",
            "(1004, 1200, 3)\n",
            "(330, 220, 3)\n",
            "(255, 170, 3)\n",
            "(1800, 1200, 3)\n",
            "(720, 1280, 3)\n",
            "(355, 250, 3)\n",
            "(1500, 439, 3)\n",
            "(4861, 3240, 3)\n",
            "(2533, 1920, 3)\n",
            "(1600, 1200, 3)\n",
            "(1150, 736, 3)\n",
            "(1800, 1200, 3)\n",
            "(1472, 1200, 3)\n",
            "(720, 1280, 3)\n",
            "(1604, 1200, 3)\n",
            "(369, 120, 3)\n",
            "(339, 226, 3)\n",
            "(487, 205, 3)\n",
            "(1536, 1024, 3)\n",
            "(960, 618, 3)\n",
            "(720, 1280, 3)\n",
            "(1761, 1200, 3)\n",
            "(1425, 1200, 3)\n",
            "(474, 250, 3)\n",
            "(1044, 1536, 3)\n",
            "(350, 220, 3)\n",
            "(800, 1200, 3)\n",
            "(1500, 1200, 3)\n",
            "(1600, 1079, 3)\n",
            "(4256, 2832, 3)\n",
            "(720, 1280, 3)\n",
            "(360, 480, 3)\n",
            "(720, 1280, 3)\n",
            "(1200, 1600, 3)\n",
            "(1068, 2040, 3)\n",
            "(1600, 1071, 3)\n",
            "(548, 800, 3)\n",
            "(983, 736, 3)\n",
            "(286, 383, 3)\n",
            "(1500, 1001, 3)\n",
            "(1499, 1200, 3)\n",
            "(1521, 1200, 3)\n",
            "(1523, 1200, 3)\n",
            "(720, 1280, 3)\n",
            "(720, 1280, 3)\n",
            "(360, 480, 3)\n",
            "(1173, 1620, 3)\n",
            "(934, 747, 3)\n",
            "(430, 279, 3)\n",
            "(799, 1200, 3)\n",
            "(1741, 1200, 3)\n",
            "(720, 1280, 3)\n",
            "(424, 624, 3)\n",
            "(720, 1280, 3)\n",
            "(720, 1280, 3)\n",
            "(1024, 1024, 3)\n",
            "(1024, 768, 3)\n",
            "(1509, 1200, 3)\n",
            "(1500, 1200, 3)\n",
            "(2134, 1466, 3)\n",
            "(1574, 1200, 3)\n",
            "(720, 1280, 3)\n",
            "(1600, 1145, 3)\n",
            "(993, 800, 3)\n",
            "(720, 1280, 3)\n",
            "(357, 300, 3)\n",
            "(720, 1280, 3)\n",
            "(720, 1280, 3)\n",
            "(720, 1280, 3)\n",
            "(720, 1280, 3)\n",
            "(1136, 640, 3)\n",
            "(382, 654, 3)\n",
            "(1747, 1200, 3)\n",
            "(1760, 1200, 3)\n",
            "(1600, 1200, 3)\n",
            "(1183, 942, 3)\n",
            "(2226, 2302, 3)\n",
            "(1780, 1200, 3)\n",
            "(1257, 755, 3)\n",
            "(4861, 3240, 3)\n",
            "(2533, 1920, 3)\n",
            "(1600, 1200, 3)\n"
          ],
          "name": "stdout"
        }
      ]
    },
    {
      "cell_type": "code",
      "metadata": {
        "id": "5yVmZpdTKJP3",
        "colab_type": "code",
        "colab": {}
      },
      "source": [
        "import os\n",
        "from skimage.io import imread\n",
        "from skimage.transform import resize"
      ],
      "execution_count": 35,
      "outputs": []
    },
    {
      "cell_type": "code",
      "metadata": {
        "id": "nRrP_JmaKib3",
        "colab_type": "code",
        "colab": {
          "base_uri": "https://localhost:8080/",
          "height": 69
        },
        "outputId": "adcaa0ec-c502-44ed-d8b6-2b17d8bd4730"
      },
      "source": [
        "target = []   \n",
        "flat_data = []  \n",
        "images= []\n",
        "import numpy as np\n",
        "\n",
        "path = '/content/drive/My Drive/images//'\n",
        "for dirpath, dirnames, filenames in os.walk(path):\n",
        "  for filename in filenames:\n",
        "    category = dirpath.split('/')[-1]\n",
        "    target.append(category)\n",
        "    img = imread(f'{path}{category}/{filename}')\n",
        "    img_resized = resize(img,(50,50,3))  \n",
        "    flat_data.append(img_resized.flatten())\n",
        "    images.append(img_resized)\n",
        "\n",
        "flat_data = np.array(flat_data)\n",
        "target = np.array(target)\n",
        "images = np.array(images)\n",
        "\n",
        "print(flat_data.shape)\n",
        "print(target.shape)\n",
        "print(images.shape)\n"
      ],
      "execution_count": 38,
      "outputs": [
        {
          "output_type": "stream",
          "text": [
            "(202, 7500)\n",
            "(202,)\n",
            "(202, 50, 50, 3)\n"
          ],
          "name": "stdout"
        }
      ]
    },
    {
      "cell_type": "code",
      "metadata": {
        "id": "MU6APDB5OlBE",
        "colab_type": "code",
        "colab": {}
      },
      "source": [
        "import pandas as pd\n",
        "df = pd.DataFrame(flat_data)\n",
        "df['Target'] = target"
      ],
      "execution_count": 40,
      "outputs": []
    },
    {
      "cell_type": "code",
      "metadata": {
        "id": "x5kEnNX6PhVY",
        "colab_type": "code",
        "colab": {
          "base_uri": "https://localhost:8080/",
          "height": 251
        },
        "outputId": "27174390-603b-40ff-f6b5-8b293d90f8db"
      },
      "source": [
        "df.head()"
      ],
      "execution_count": 41,
      "outputs": [
        {
          "output_type": "execute_result",
          "data": {
            "text/html": [
              "<div>\n",
              "<style scoped>\n",
              "    .dataframe tbody tr th:only-of-type {\n",
              "        vertical-align: middle;\n",
              "    }\n",
              "\n",
              "    .dataframe tbody tr th {\n",
              "        vertical-align: top;\n",
              "    }\n",
              "\n",
              "    .dataframe thead th {\n",
              "        text-align: right;\n",
              "    }\n",
              "</style>\n",
              "<table border=\"1\" class=\"dataframe\">\n",
              "  <thead>\n",
              "    <tr style=\"text-align: right;\">\n",
              "      <th></th>\n",
              "      <th>0</th>\n",
              "      <th>1</th>\n",
              "      <th>2</th>\n",
              "      <th>3</th>\n",
              "      <th>4</th>\n",
              "      <th>5</th>\n",
              "      <th>6</th>\n",
              "      <th>7</th>\n",
              "      <th>8</th>\n",
              "      <th>9</th>\n",
              "      <th>10</th>\n",
              "      <th>11</th>\n",
              "      <th>12</th>\n",
              "      <th>13</th>\n",
              "      <th>14</th>\n",
              "      <th>15</th>\n",
              "      <th>16</th>\n",
              "      <th>17</th>\n",
              "      <th>18</th>\n",
              "      <th>19</th>\n",
              "      <th>20</th>\n",
              "      <th>21</th>\n",
              "      <th>22</th>\n",
              "      <th>23</th>\n",
              "      <th>24</th>\n",
              "      <th>25</th>\n",
              "      <th>26</th>\n",
              "      <th>27</th>\n",
              "      <th>28</th>\n",
              "      <th>29</th>\n",
              "      <th>30</th>\n",
              "      <th>31</th>\n",
              "      <th>32</th>\n",
              "      <th>33</th>\n",
              "      <th>34</th>\n",
              "      <th>35</th>\n",
              "      <th>36</th>\n",
              "      <th>37</th>\n",
              "      <th>38</th>\n",
              "      <th>39</th>\n",
              "      <th>...</th>\n",
              "      <th>7461</th>\n",
              "      <th>7462</th>\n",
              "      <th>7463</th>\n",
              "      <th>7464</th>\n",
              "      <th>7465</th>\n",
              "      <th>7466</th>\n",
              "      <th>7467</th>\n",
              "      <th>7468</th>\n",
              "      <th>7469</th>\n",
              "      <th>7470</th>\n",
              "      <th>7471</th>\n",
              "      <th>7472</th>\n",
              "      <th>7473</th>\n",
              "      <th>7474</th>\n",
              "      <th>7475</th>\n",
              "      <th>7476</th>\n",
              "      <th>7477</th>\n",
              "      <th>7478</th>\n",
              "      <th>7479</th>\n",
              "      <th>7480</th>\n",
              "      <th>7481</th>\n",
              "      <th>7482</th>\n",
              "      <th>7483</th>\n",
              "      <th>7484</th>\n",
              "      <th>7485</th>\n",
              "      <th>7486</th>\n",
              "      <th>7487</th>\n",
              "      <th>7488</th>\n",
              "      <th>7489</th>\n",
              "      <th>7490</th>\n",
              "      <th>7491</th>\n",
              "      <th>7492</th>\n",
              "      <th>7493</th>\n",
              "      <th>7494</th>\n",
              "      <th>7495</th>\n",
              "      <th>7496</th>\n",
              "      <th>7497</th>\n",
              "      <th>7498</th>\n",
              "      <th>7499</th>\n",
              "      <th>Target</th>\n",
              "    </tr>\n",
              "  </thead>\n",
              "  <tbody>\n",
              "    <tr>\n",
              "      <th>0</th>\n",
              "      <td>0.215686</td>\n",
              "      <td>0.298039</td>\n",
              "      <td>0.741176</td>\n",
              "      <td>0.211765</td>\n",
              "      <td>0.301961</td>\n",
              "      <td>0.741176</td>\n",
              "      <td>0.207843</td>\n",
              "      <td>0.301961</td>\n",
              "      <td>0.741176</td>\n",
              "      <td>0.211765</td>\n",
              "      <td>0.301961</td>\n",
              "      <td>0.741176</td>\n",
              "      <td>0.207843</td>\n",
              "      <td>0.301961</td>\n",
              "      <td>0.737255</td>\n",
              "      <td>0.203922</td>\n",
              "      <td>0.301961</td>\n",
              "      <td>0.737255</td>\n",
              "      <td>0.203922</td>\n",
              "      <td>0.301961</td>\n",
              "      <td>0.737255</td>\n",
              "      <td>0.207843</td>\n",
              "      <td>0.301961</td>\n",
              "      <td>0.737255</td>\n",
              "      <td>0.211765</td>\n",
              "      <td>0.298039</td>\n",
              "      <td>0.741176</td>\n",
              "      <td>0.211765</td>\n",
              "      <td>0.301961</td>\n",
              "      <td>0.741176</td>\n",
              "      <td>0.215686</td>\n",
              "      <td>0.301961</td>\n",
              "      <td>0.741176</td>\n",
              "      <td>0.219608</td>\n",
              "      <td>0.301961</td>\n",
              "      <td>0.745098</td>\n",
              "      <td>0.223529</td>\n",
              "      <td>0.305882</td>\n",
              "      <td>0.745098</td>\n",
              "      <td>0.223529</td>\n",
              "      <td>...</td>\n",
              "      <td>0.668627</td>\n",
              "      <td>0.607843</td>\n",
              "      <td>0.792098</td>\n",
              "      <td>0.743137</td>\n",
              "      <td>0.645098</td>\n",
              "      <td>0.756863</td>\n",
              "      <td>0.815745</td>\n",
              "      <td>0.690196</td>\n",
              "      <td>0.701961</td>\n",
              "      <td>0.860784</td>\n",
              "      <td>0.721569</td>\n",
              "      <td>0.621569</td>\n",
              "      <td>0.890196</td>\n",
              "      <td>0.743137</td>\n",
              "      <td>0.543137</td>\n",
              "      <td>0.905882</td>\n",
              "      <td>0.754902</td>\n",
              "      <td>0.494118</td>\n",
              "      <td>0.909804</td>\n",
              "      <td>0.764706</td>\n",
              "      <td>0.458824</td>\n",
              "      <td>0.905882</td>\n",
              "      <td>0.756863</td>\n",
              "      <td>0.419608</td>\n",
              "      <td>0.898039</td>\n",
              "      <td>0.729412</td>\n",
              "      <td>0.372549</td>\n",
              "      <td>0.882353</td>\n",
              "      <td>0.698039</td>\n",
              "      <td>0.323529</td>\n",
              "      <td>0.874510</td>\n",
              "      <td>0.686275</td>\n",
              "      <td>0.301961</td>\n",
              "      <td>0.874510</td>\n",
              "      <td>0.682353</td>\n",
              "      <td>0.298039</td>\n",
              "      <td>0.858824</td>\n",
              "      <td>0.660725</td>\n",
              "      <td>0.266667</td>\n",
              "      <td>rocket</td>\n",
              "    </tr>\n",
              "    <tr>\n",
              "      <th>1</th>\n",
              "      <td>0.105882</td>\n",
              "      <td>0.211765</td>\n",
              "      <td>0.576078</td>\n",
              "      <td>0.101961</td>\n",
              "      <td>0.211569</td>\n",
              "      <td>0.572549</td>\n",
              "      <td>0.101961</td>\n",
              "      <td>0.207843</td>\n",
              "      <td>0.568627</td>\n",
              "      <td>0.101961</td>\n",
              "      <td>0.203922</td>\n",
              "      <td>0.568627</td>\n",
              "      <td>0.101961</td>\n",
              "      <td>0.207843</td>\n",
              "      <td>0.568627</td>\n",
              "      <td>0.101961</td>\n",
              "      <td>0.207843</td>\n",
              "      <td>0.568627</td>\n",
              "      <td>0.098039</td>\n",
              "      <td>0.207843</td>\n",
              "      <td>0.564706</td>\n",
              "      <td>0.098039</td>\n",
              "      <td>0.203922</td>\n",
              "      <td>0.564706</td>\n",
              "      <td>0.098039</td>\n",
              "      <td>0.207843</td>\n",
              "      <td>0.564314</td>\n",
              "      <td>0.098039</td>\n",
              "      <td>0.207843</td>\n",
              "      <td>0.560784</td>\n",
              "      <td>0.098039</td>\n",
              "      <td>0.207843</td>\n",
              "      <td>0.560784</td>\n",
              "      <td>0.098039</td>\n",
              "      <td>0.207843</td>\n",
              "      <td>0.560784</td>\n",
              "      <td>0.098039</td>\n",
              "      <td>0.207843</td>\n",
              "      <td>0.560784</td>\n",
              "      <td>0.098039</td>\n",
              "      <td>...</td>\n",
              "      <td>0.219608</td>\n",
              "      <td>0.186471</td>\n",
              "      <td>0.180392</td>\n",
              "      <td>0.235294</td>\n",
              "      <td>0.203922</td>\n",
              "      <td>0.200000</td>\n",
              "      <td>0.233529</td>\n",
              "      <td>0.200196</td>\n",
              "      <td>0.196275</td>\n",
              "      <td>0.249216</td>\n",
              "      <td>0.215882</td>\n",
              "      <td>0.213725</td>\n",
              "      <td>0.207843</td>\n",
              "      <td>0.165098</td>\n",
              "      <td>0.176471</td>\n",
              "      <td>0.220000</td>\n",
              "      <td>0.180784</td>\n",
              "      <td>0.188235</td>\n",
              "      <td>0.192157</td>\n",
              "      <td>0.150980</td>\n",
              "      <td>0.149020</td>\n",
              "      <td>0.180784</td>\n",
              "      <td>0.137255</td>\n",
              "      <td>0.133333</td>\n",
              "      <td>0.180392</td>\n",
              "      <td>0.129412</td>\n",
              "      <td>0.127647</td>\n",
              "      <td>0.176471</td>\n",
              "      <td>0.125490</td>\n",
              "      <td>0.121569</td>\n",
              "      <td>0.168627</td>\n",
              "      <td>0.117647</td>\n",
              "      <td>0.113725</td>\n",
              "      <td>0.160784</td>\n",
              "      <td>0.109804</td>\n",
              "      <td>0.113725</td>\n",
              "      <td>0.152941</td>\n",
              "      <td>0.092353</td>\n",
              "      <td>0.101961</td>\n",
              "      <td>rocket</td>\n",
              "    </tr>\n",
              "    <tr>\n",
              "      <th>2</th>\n",
              "      <td>0.352941</td>\n",
              "      <td>0.443137</td>\n",
              "      <td>0.603922</td>\n",
              "      <td>0.337255</td>\n",
              "      <td>0.431373</td>\n",
              "      <td>0.594118</td>\n",
              "      <td>0.318627</td>\n",
              "      <td>0.419608</td>\n",
              "      <td>0.584314</td>\n",
              "      <td>0.335294</td>\n",
              "      <td>0.430392</td>\n",
              "      <td>0.593137</td>\n",
              "      <td>0.368627</td>\n",
              "      <td>0.458824</td>\n",
              "      <td>0.611765</td>\n",
              "      <td>0.337255</td>\n",
              "      <td>0.431373</td>\n",
              "      <td>0.592157</td>\n",
              "      <td>0.329412</td>\n",
              "      <td>0.427451</td>\n",
              "      <td>0.588235</td>\n",
              "      <td>0.321569</td>\n",
              "      <td>0.420588</td>\n",
              "      <td>0.584314</td>\n",
              "      <td>0.325490</td>\n",
              "      <td>0.423529</td>\n",
              "      <td>0.584314</td>\n",
              "      <td>0.338235</td>\n",
              "      <td>0.434314</td>\n",
              "      <td>0.591176</td>\n",
              "      <td>0.365686</td>\n",
              "      <td>0.455882</td>\n",
              "      <td>0.606863</td>\n",
              "      <td>0.303922</td>\n",
              "      <td>0.407843</td>\n",
              "      <td>0.572549</td>\n",
              "      <td>0.262745</td>\n",
              "      <td>0.376471</td>\n",
              "      <td>0.550000</td>\n",
              "      <td>0.247059</td>\n",
              "      <td>...</td>\n",
              "      <td>0.633333</td>\n",
              "      <td>0.666667</td>\n",
              "      <td>0.703922</td>\n",
              "      <td>0.631373</td>\n",
              "      <td>0.662745</td>\n",
              "      <td>0.701961</td>\n",
              "      <td>0.626471</td>\n",
              "      <td>0.662745</td>\n",
              "      <td>0.701961</td>\n",
              "      <td>0.611765</td>\n",
              "      <td>0.650980</td>\n",
              "      <td>0.694118</td>\n",
              "      <td>0.603922</td>\n",
              "      <td>0.647059</td>\n",
              "      <td>0.694118</td>\n",
              "      <td>0.596078</td>\n",
              "      <td>0.641176</td>\n",
              "      <td>0.690196</td>\n",
              "      <td>0.596078</td>\n",
              "      <td>0.639216</td>\n",
              "      <td>0.686275</td>\n",
              "      <td>0.581373</td>\n",
              "      <td>0.619608</td>\n",
              "      <td>0.662745</td>\n",
              "      <td>0.574510</td>\n",
              "      <td>0.611765</td>\n",
              "      <td>0.645098</td>\n",
              "      <td>0.607843</td>\n",
              "      <td>0.646078</td>\n",
              "      <td>0.682353</td>\n",
              "      <td>0.688235</td>\n",
              "      <td>0.715686</td>\n",
              "      <td>0.735294</td>\n",
              "      <td>0.759804</td>\n",
              "      <td>0.779412</td>\n",
              "      <td>0.780392</td>\n",
              "      <td>0.780392</td>\n",
              "      <td>0.796078</td>\n",
              "      <td>0.790196</td>\n",
              "      <td>rocket</td>\n",
              "    </tr>\n",
              "    <tr>\n",
              "      <th>3</th>\n",
              "      <td>0.423529</td>\n",
              "      <td>0.486275</td>\n",
              "      <td>0.611765</td>\n",
              "      <td>0.419608</td>\n",
              "      <td>0.482353</td>\n",
              "      <td>0.611765</td>\n",
              "      <td>0.419608</td>\n",
              "      <td>0.482353</td>\n",
              "      <td>0.607843</td>\n",
              "      <td>0.419608</td>\n",
              "      <td>0.478431</td>\n",
              "      <td>0.600000</td>\n",
              "      <td>0.415686</td>\n",
              "      <td>0.478431</td>\n",
              "      <td>0.603922</td>\n",
              "      <td>0.415686</td>\n",
              "      <td>0.474510</td>\n",
              "      <td>0.607843</td>\n",
              "      <td>0.411922</td>\n",
              "      <td>0.474510</td>\n",
              "      <td>0.600000</td>\n",
              "      <td>0.407843</td>\n",
              "      <td>0.470588</td>\n",
              "      <td>0.600000</td>\n",
              "      <td>0.407843</td>\n",
              "      <td>0.470588</td>\n",
              "      <td>0.603922</td>\n",
              "      <td>0.402039</td>\n",
              "      <td>0.462745</td>\n",
              "      <td>0.600000</td>\n",
              "      <td>0.396078</td>\n",
              "      <td>0.458824</td>\n",
              "      <td>0.592157</td>\n",
              "      <td>0.396078</td>\n",
              "      <td>0.458824</td>\n",
              "      <td>0.588235</td>\n",
              "      <td>0.396078</td>\n",
              "      <td>0.458824</td>\n",
              "      <td>0.584314</td>\n",
              "      <td>0.396078</td>\n",
              "      <td>...</td>\n",
              "      <td>0.913725</td>\n",
              "      <td>0.764706</td>\n",
              "      <td>0.694118</td>\n",
              "      <td>0.908510</td>\n",
              "      <td>0.764706</td>\n",
              "      <td>0.701961</td>\n",
              "      <td>0.913311</td>\n",
              "      <td>0.772549</td>\n",
              "      <td>0.713725</td>\n",
              "      <td>0.912431</td>\n",
              "      <td>0.780392</td>\n",
              "      <td>0.729412</td>\n",
              "      <td>0.920275</td>\n",
              "      <td>0.789181</td>\n",
              "      <td>0.742122</td>\n",
              "      <td>0.929412</td>\n",
              "      <td>0.800000</td>\n",
              "      <td>0.752941</td>\n",
              "      <td>0.929412</td>\n",
              "      <td>0.803922</td>\n",
              "      <td>0.760889</td>\n",
              "      <td>0.929412</td>\n",
              "      <td>0.806549</td>\n",
              "      <td>0.768627</td>\n",
              "      <td>0.932039</td>\n",
              "      <td>0.807843</td>\n",
              "      <td>0.768627</td>\n",
              "      <td>0.929412</td>\n",
              "      <td>0.803922</td>\n",
              "      <td>0.764706</td>\n",
              "      <td>0.929412</td>\n",
              "      <td>0.807843</td>\n",
              "      <td>0.768627</td>\n",
              "      <td>0.933333</td>\n",
              "      <td>0.811765</td>\n",
              "      <td>0.776471</td>\n",
              "      <td>0.928118</td>\n",
              "      <td>0.807843</td>\n",
              "      <td>0.768627</td>\n",
              "      <td>rocket</td>\n",
              "    </tr>\n",
              "    <tr>\n",
              "      <th>4</th>\n",
              "      <td>0.000000</td>\n",
              "      <td>0.416627</td>\n",
              "      <td>0.658824</td>\n",
              "      <td>0.000000</td>\n",
              "      <td>0.415686</td>\n",
              "      <td>0.658824</td>\n",
              "      <td>0.000000</td>\n",
              "      <td>0.396078</td>\n",
              "      <td>0.640408</td>\n",
              "      <td>0.000000</td>\n",
              "      <td>0.388235</td>\n",
              "      <td>0.627451</td>\n",
              "      <td>0.000000</td>\n",
              "      <td>0.380392</td>\n",
              "      <td>0.618667</td>\n",
              "      <td>0.000000</td>\n",
              "      <td>0.380392</td>\n",
              "      <td>0.615686</td>\n",
              "      <td>0.000000</td>\n",
              "      <td>0.376471</td>\n",
              "      <td>0.607843</td>\n",
              "      <td>0.000000</td>\n",
              "      <td>0.372549</td>\n",
              "      <td>0.603922</td>\n",
              "      <td>0.000000</td>\n",
              "      <td>0.372549</td>\n",
              "      <td>0.600000</td>\n",
              "      <td>0.000000</td>\n",
              "      <td>0.368627</td>\n",
              "      <td>0.592270</td>\n",
              "      <td>0.000000</td>\n",
              "      <td>0.368627</td>\n",
              "      <td>0.592157</td>\n",
              "      <td>0.000000</td>\n",
              "      <td>0.364706</td>\n",
              "      <td>0.584471</td>\n",
              "      <td>0.000000</td>\n",
              "      <td>0.360784</td>\n",
              "      <td>0.580392</td>\n",
              "      <td>0.000000</td>\n",
              "      <td>...</td>\n",
              "      <td>0.866667</td>\n",
              "      <td>0.737255</td>\n",
              "      <td>0.545098</td>\n",
              "      <td>0.850861</td>\n",
              "      <td>0.682315</td>\n",
              "      <td>0.454745</td>\n",
              "      <td>0.839216</td>\n",
              "      <td>0.654902</td>\n",
              "      <td>0.411765</td>\n",
              "      <td>0.847059</td>\n",
              "      <td>0.666667</td>\n",
              "      <td>0.431373</td>\n",
              "      <td>0.815686</td>\n",
              "      <td>0.619457</td>\n",
              "      <td>0.372398</td>\n",
              "      <td>0.747482</td>\n",
              "      <td>0.528627</td>\n",
              "      <td>0.276894</td>\n",
              "      <td>0.646118</td>\n",
              "      <td>0.430431</td>\n",
              "      <td>0.198344</td>\n",
              "      <td>0.544000</td>\n",
              "      <td>0.374695</td>\n",
              "      <td>0.180392</td>\n",
              "      <td>0.470287</td>\n",
              "      <td>0.340235</td>\n",
              "      <td>0.180392</td>\n",
              "      <td>0.423191</td>\n",
              "      <td>0.321569</td>\n",
              "      <td>0.184314</td>\n",
              "      <td>0.375529</td>\n",
              "      <td>0.305882</td>\n",
              "      <td>0.192157</td>\n",
              "      <td>0.349020</td>\n",
              "      <td>0.313725</td>\n",
              "      <td>0.221333</td>\n",
              "      <td>0.313725</td>\n",
              "      <td>0.325490</td>\n",
              "      <td>0.254902</td>\n",
              "      <td>rocket</td>\n",
              "    </tr>\n",
              "  </tbody>\n",
              "</table>\n",
              "<p>5 rows × 7501 columns</p>\n",
              "</div>"
            ],
            "text/plain": [
              "          0         1         2         3  ...      7497      7498      7499  Target\n",
              "0  0.215686  0.298039  0.741176  0.211765  ...  0.858824  0.660725  0.266667  rocket\n",
              "1  0.105882  0.211765  0.576078  0.101961  ...  0.152941  0.092353  0.101961  rocket\n",
              "2  0.352941  0.443137  0.603922  0.337255  ...  0.780392  0.796078  0.790196  rocket\n",
              "3  0.423529  0.486275  0.611765  0.419608  ...  0.928118  0.807843  0.768627  rocket\n",
              "4  0.000000  0.416627  0.658824  0.000000  ...  0.313725  0.325490  0.254902  rocket\n",
              "\n",
              "[5 rows x 7501 columns]"
            ]
          },
          "metadata": {
            "tags": []
          },
          "execution_count": 41
        }
      ]
    },
    {
      "cell_type": "code",
      "metadata": {
        "id": "rvacOGc41iHH",
        "colab_type": "code",
        "colab": {
          "base_uri": "https://localhost:8080/",
          "height": 35
        },
        "outputId": "c98593b6-71f5-4732-f49b-225b72051f26"
      },
      "source": [
        "df.shape"
      ],
      "execution_count": 42,
      "outputs": [
        {
          "output_type": "execute_result",
          "data": {
            "text/plain": [
              "(202, 7501)"
            ]
          },
          "metadata": {
            "tags": []
          },
          "execution_count": 42
        }
      ]
    },
    {
      "cell_type": "code",
      "metadata": {
        "id": "cw7kt87TCTfD",
        "colab_type": "code",
        "colab": {
          "base_uri": "https://localhost:8080/",
          "height": 243
        },
        "outputId": "878d3b4a-f80e-4cb1-f7a2-50f46c7eb2de"
      },
      "source": [
        "x = df.iloc[:,0:7500].values\n",
        "x"
      ],
      "execution_count": 43,
      "outputs": [
        {
          "output_type": "execute_result",
          "data": {
            "text/plain": [
              "array([[0.21568627, 0.29803922, 0.74117647, ..., 0.85882353, 0.66072549,\n",
              "        0.26666667],\n",
              "       [0.10588235, 0.21176471, 0.57607843, ..., 0.15294118, 0.09235294,\n",
              "        0.10196078],\n",
              "       [0.35294118, 0.44313725, 0.60392157, ..., 0.78039216, 0.79607843,\n",
              "        0.79019608],\n",
              "       ...,\n",
              "       [0.03333333, 0.27843137, 0.75294118, ..., 0.13333333, 0.21666667,\n",
              "        0.26862745],\n",
              "       [0.33333333, 0.5254902 , 0.72941176, ..., 0.20588235, 0.26666667,\n",
              "        0.31862745],\n",
              "       [0.6637451 , 0.67747059, 0.75752941, ..., 0.27843137, 0.38823529,\n",
              "        0.43921569]])"
            ]
          },
          "metadata": {
            "tags": []
          },
          "execution_count": 43
        }
      ]
    },
    {
      "cell_type": "code",
      "metadata": {
        "id": "aay_wccWCpXG",
        "colab_type": "code",
        "colab": {
          "base_uri": "https://localhost:8080/",
          "height": 537
        },
        "outputId": "6e5364e4-fcea-4d82-be62-cc777515ff74"
      },
      "source": [
        "y = df.iloc[:,7500].values\n",
        "y"
      ],
      "execution_count": 44,
      "outputs": [
        {
          "output_type": "execute_result",
          "data": {
            "text/plain": [
              "array(['rocket', 'rocket', 'rocket', 'rocket', 'rocket', 'rocket',\n",
              "       'rocket', 'rocket', 'rocket', 'rocket', 'rocket', 'rocket',\n",
              "       'rocket', 'rocket', 'rocket', 'rocket', 'rocket', 'rocket',\n",
              "       'rocket', 'rocket', 'rocket', 'rocket', 'rocket', 'rocket',\n",
              "       'rocket', 'rocket', 'rocket', 'rocket', 'rocket', 'rocket',\n",
              "       'rocket', 'rocket', 'rocket', 'rocket', 'rocket', 'rocket',\n",
              "       'rocket', 'rocket', 'rocket', 'rocket', 'rocket', 'rocket',\n",
              "       'rocket', 'rocket', 'rocket', 'rocket', 'rocket', 'rocket',\n",
              "       'rocket', 'rocket', 'rocket', 'rocket', 'rocket', 'rocket',\n",
              "       'rocket', 'rocket', 'rocket', 'rocket', 'rocket', 'rocket',\n",
              "       'rocket', 'rocket', 'rocket', 'rocket', 'rocket', 'rocket',\n",
              "       'rocket', 'rocket', 'rocket', 'rocket', 'rocket', 'rocket',\n",
              "       'rocket', 'rocket', 'rocket', 'rocket', 'rocket', 'rocket',\n",
              "       'rocket', 'rocket', 'rocket', 'rocket', 'rocket', 'rocket',\n",
              "       'rocket', 'rocket', 'rocket', 'rocket', 'rocket', 'rocket',\n",
              "       'rocket', 'ship', 'ship', 'ship', 'ship', 'ship', 'ship', 'ship',\n",
              "       'ship', 'ship', 'ship', 'ship', 'ship', 'ship', 'ship', 'ship',\n",
              "       'ship', 'ship', 'ship', 'ship', 'ship', 'ship', 'ship', 'ship',\n",
              "       'ship', 'ship', 'ship', 'ship', 'ship', 'ship', 'ship', 'ship',\n",
              "       'ship', 'ship', 'ship', 'ship', 'ship', 'ship', 'ship', 'ship',\n",
              "       'ship', 'ship', 'ship', 'ship', 'ship', 'ship', 'ship', 'ship',\n",
              "       'ship', 'ship', 'ship', 'ship', 'ship', 'ship', 'ship', 'ship',\n",
              "       'ship', 'ship', 'ship', 'ship', 'ship', 'ship', 'ship', 'ship',\n",
              "       'ship', 'ship', 'ship', 'ship', 'ship', 'ship', 'ship', 'ship',\n",
              "       'ship', 'ship', 'ship', 'ship', 'ship', 'ship', 'ship', 'ship',\n",
              "       'ship', 'ship', 'ship', 'ship', 'ship', 'ship', 'ship', 'ship',\n",
              "       'ship', 'ship', 'ship', 'ship', 'ship', 'ship', 'ship', 'ship',\n",
              "       'ship', 'ship', 'ship', 'ship', 'ship', 'ship', 'ship', 'ship',\n",
              "       'ship', 'ship', 'ship', 'ship', 'ship', 'ship', 'ship', 'ship'],\n",
              "      dtype=object)"
            ]
          },
          "metadata": {
            "tags": []
          },
          "execution_count": 44
        }
      ]
    },
    {
      "cell_type": "code",
      "metadata": {
        "id": "pSb4tLrwDIBg",
        "colab_type": "code",
        "colab": {}
      },
      "source": [
        "from sklearn.neighbors import KNeighborsClassifier"
      ],
      "execution_count": 45,
      "outputs": []
    },
    {
      "cell_type": "code",
      "metadata": {
        "id": "ZX_Bk2mGDUIt",
        "colab_type": "code",
        "colab": {
          "base_uri": "https://localhost:8080/",
          "height": 287
        },
        "outputId": "1c99158f-41b5-44ba-af03-7fde61fd0fe2"
      },
      "source": [
        "from skimage.io import imread\n",
        "import matplotlib.pyplot as plt\n",
        "i = imread('/content/drive/My Drive/download.jpg')\n",
        "img_resized = resize(i,(50,50,3)) \n",
        "fltimage=img_resized.flatten()\n",
        "model = KNeighborsClassifier(n_neighbors=17)\n",
        "model.fit(x,y)\n",
        "y_pred = model.predict([fltimage])\n",
        "plt.imshow(i)"
      ],
      "execution_count": 73,
      "outputs": [
        {
          "output_type": "execute_result",
          "data": {
            "text/plain": [
              "<matplotlib.image.AxesImage at 0x7fe6401320b8>"
            ]
          },
          "metadata": {
            "tags": []
          },
          "execution_count": 73
        },
        {
          "output_type": "display_data",
          "data": {
            "image/png": "[encoded data removed]",
            "text/plain": [
              "<Figure size 432x288 with 1 Axes>"
            ]
          },
          "metadata": {
            "tags": [],
            "needs_background": "light"
          }
        }
      ]
    },
    {
      "cell_type": "code",
      "metadata": {
        "id": "MJhBDp2sDGzI",
        "colab_type": "code",
        "colab": {
          "base_uri": "https://localhost:8080/",
          "height": 35
        },
        "outputId": "54bc0eb4-d256-4195-9d97-ca7992266765"
      },
      "source": [
        "y_pred\n"
      ],
      "execution_count": 74,
      "outputs": [
        {
          "output_type": "execute_result",
          "data": {
            "text/plain": [
              "array(['rocket'], dtype=object)"
            ]
          },
          "metadata": {
            "tags": []
          },
          "execution_count": 74
        }
      ]
    },
    {
      "cell_type": "code",
      "metadata": {
        "id": "AFUlVRGbtIQb",
        "colab_type": "code",
        "colab": {}
      },
      "source": [
        "import numpy as np\n",
        "z = np.arange(1,48)"
      ],
      "execution_count": 75,
      "outputs": []
    },
    {
      "cell_type": "code",
      "metadata": {
        "id": "bheXOvsNtf8C",
        "colab_type": "code",
        "colab": {
          "base_uri": "https://localhost:8080/",
          "height": 69
        },
        "outputId": "a4fc48c2-a46a-4361-aa4a-f0f68534358d"
      },
      "source": [
        "z"
      ],
      "execution_count": 76,
      "outputs": [
        {
          "output_type": "execute_result",
          "data": {
            "text/plain": [
              "array([ 1,  2,  3,  4,  5,  6,  7,  8,  9, 10, 11, 12, 13, 14, 15, 16, 17,\n",
              "       18, 19, 20, 21, 22, 23, 24, 25, 26, 27, 28, 29, 30, 31, 32, 33, 34,\n",
              "       35, 36, 37, 38, 39, 40, 41, 42, 43, 44, 45, 46, 47])"
            ]
          },
          "metadata": {
            "tags": []
          },
          "execution_count": 76
        }
      ]
    },
    {
      "cell_type": "code",
      "metadata": {
        "id": "kQnJZmBjtgZ9",
        "colab_type": "code",
        "colab": {
          "base_uri": "https://localhost:8080/",
          "height": 245
        },
        "outputId": "96a5e02c-5a2a-43d8-b90d-86808cce7133"
      },
      "source": [
        "from sklearn.model_selection import GridSearchCV\n",
        "param = {'n_neighbors':z}\n",
        "model = KNeighborsClassifier()\n",
        "model_grid = GridSearchCV(model,param)\n",
        "model_grid.fit(x,y)"
      ],
      "execution_count": 77,
      "outputs": [
        {
          "output_type": "execute_result",
          "data": {
            "text/plain": [
              "GridSearchCV(cv=None, error_score=nan,\n",
              "             estimator=KNeighborsClassifier(algorithm='auto', leaf_size=30,\n",
              "                                            metric='minkowski',\n",
              "                                            metric_params=None, n_jobs=None,\n",
              "                                            n_neighbors=5, p=2,\n",
              "                                            weights='uniform'),\n",
              "             iid='deprecated', n_jobs=None,\n",
              "             param_grid={'n_neighbors': array([ 1,  2,  3,  4,  5,  6,  7,  8,  9, 10, 11, 12, 13, 14, 15, 16, 17,\n",
              "       18, 19, 20, 21, 22, 23, 24, 25, 26, 27, 28, 29, 30, 31, 32, 33, 34,\n",
              "       35, 36, 37, 38, 39, 40, 41, 42, 43, 44, 45, 46, 47])},\n",
              "             pre_dispatch='2*n_jobs', refit=True, return_train_score=False,\n",
              "             scoring=None, verbose=0)"
            ]
          },
          "metadata": {
            "tags": []
          },
          "execution_count": 77
        }
      ]
    },
    {
      "cell_type": "code",
      "metadata": {
        "id": "rL9H3epVuKZm",
        "colab_type": "code",
        "colab": {
          "base_uri": "https://localhost:8080/",
          "height": 35
        },
        "outputId": "67966aed-ba83-4342-b434-02a7f4b88150"
      },
      "source": [
        "model_grid.best_params_"
      ],
      "execution_count": 78,
      "outputs": [
        {
          "output_type": "execute_result",
          "data": {
            "text/plain": [
              "{'n_neighbors': 17}"
            ]
          },
          "metadata": {
            "tags": []
          },
          "execution_count": 78
        }
      ]
    },
    {
      "cell_type": "code",
      "metadata": {
        "id": "1cBg42xlviyi",
        "colab_type": "code",
        "colab": {}
      },
      "source": [
        "from sklearn.model_selection import train_test_split\n",
        "x_train,x_test,y_train,y_test = train_test_split(x,y,random_state=0)"
      ],
      "execution_count": 79,
      "outputs": []
    },
    {
      "cell_type": "code",
      "metadata": {
        "id": "P56HdVddwFvK",
        "colab_type": "code",
        "colab": {
          "base_uri": "https://localhost:8080/",
          "height": 35
        },
        "outputId": "daf6cc1e-c890-4b50-debe-35e77c08f08f"
      },
      "source": [
        "x_train.shape"
      ],
      "execution_count": 80,
      "outputs": [
        {
          "output_type": "execute_result",
          "data": {
            "text/plain": [
              "(151, 7500)"
            ]
          },
          "metadata": {
            "tags": []
          },
          "execution_count": 80
        }
      ]
    },
    {
      "cell_type": "code",
      "metadata": {
        "id": "MtRpAy8uwHUw",
        "colab_type": "code",
        "colab": {
          "base_uri": "https://localhost:8080/",
          "height": 35
        },
        "outputId": "89aceb2b-2574-4aa0-a9ad-660e461debc2"
      },
      "source": [
        "x_test.shape"
      ],
      "execution_count": 81,
      "outputs": [
        {
          "output_type": "execute_result",
          "data": {
            "text/plain": [
              "(51, 7500)"
            ]
          },
          "metadata": {
            "tags": []
          },
          "execution_count": 81
        }
      ]
    },
    {
      "cell_type": "code",
      "metadata": {
        "id": "Odev4btgwJCl",
        "colab_type": "code",
        "colab": {
          "base_uri": "https://localhost:8080/",
          "height": 69
        },
        "outputId": "740df82c-278f-4f1f-a809-ea2b04bee21c"
      },
      "source": [
        "model = KNeighborsClassifier(n_neighbors=7)\n",
        "model.fit(x_train,y_train)"
      ],
      "execution_count": 82,
      "outputs": [
        {
          "output_type": "execute_result",
          "data": {
            "text/plain": [
              "KNeighborsClassifier(algorithm='auto', leaf_size=30, metric='minkowski',\n",
              "                     metric_params=None, n_jobs=None, n_neighbors=7, p=2,\n",
              "                     weights='uniform')"
            ]
          },
          "metadata": {
            "tags": []
          },
          "execution_count": 82
        }
      ]
    },
    {
      "cell_type": "code",
      "metadata": {
        "id": "P5QkLqxJwRiq",
        "colab_type": "code",
        "colab": {}
      },
      "source": [
        "y_pred = model.predict(x_test)"
      ],
      "execution_count": 83,
      "outputs": []
    },
    {
      "cell_type": "code",
      "metadata": {
        "id": "3rkzWrSiwVC-",
        "colab_type": "code",
        "colab": {
          "base_uri": "https://localhost:8080/",
          "height": 156
        },
        "outputId": "725d4f72-bfe3-4950-944a-1f7386f953e5"
      },
      "source": [
        "y_pred "
      ],
      "execution_count": 84,
      "outputs": [
        {
          "output_type": "execute_result",
          "data": {
            "text/plain": [
              "array(['ship', 'ship', 'ship', 'ship', 'ship', 'ship', 'rocket', 'ship',\n",
              "       'rocket', 'ship', 'rocket', 'ship', 'ship', 'rocket', 'rocket',\n",
              "       'ship', 'rocket', 'ship', 'rocket', 'rocket', 'ship', 'ship',\n",
              "       'ship', 'ship', 'rocket', 'ship', 'ship', 'ship', 'ship', 'rocket',\n",
              "       'rocket', 'rocket', 'ship', 'rocket', 'rocket', 'ship', 'ship',\n",
              "       'rocket', 'rocket', 'ship', 'ship', 'rocket', 'ship', 'ship',\n",
              "       'rocket', 'rocket', 'rocket', 'ship', 'ship', 'ship', 'ship'],\n",
              "      dtype=object)"
            ]
          },
          "metadata": {
            "tags": []
          },
          "execution_count": 84
        }
      ]
    },
    {
      "cell_type": "code",
      "metadata": {
        "id": "BVh4tVoWwWDT",
        "colab_type": "code",
        "colab": {
          "base_uri": "https://localhost:8080/",
          "height": 156
        },
        "outputId": "74d76399-c81b-46bd-a5d2-1c7f6f3d3693"
      },
      "source": [
        "y_test "
      ],
      "execution_count": 85,
      "outputs": [
        {
          "output_type": "execute_result",
          "data": {
            "text/plain": [
              "array(['rocket', 'ship', 'ship', 'ship', 'ship', 'ship', 'rocket', 'ship',\n",
              "       'rocket', 'ship', 'rocket', 'ship', 'ship', 'ship', 'rocket',\n",
              "       'rocket', 'rocket', 'ship', 'rocket', 'rocket', 'ship', 'ship',\n",
              "       'rocket', 'ship', 'rocket', 'ship', 'ship', 'ship', 'ship',\n",
              "       'rocket', 'rocket', 'rocket', 'ship', 'ship', 'rocket', 'ship',\n",
              "       'ship', 'rocket', 'rocket', 'ship', 'ship', 'rocket', 'rocket',\n",
              "       'ship', 'ship', 'rocket', 'rocket', 'rocket', 'ship', 'ship',\n",
              "       'rocket'], dtype=object)"
            ]
          },
          "metadata": {
            "tags": []
          },
          "execution_count": 85
        }
      ]
    },
    {
      "cell_type": "code",
      "metadata": {
        "id": "6nVI2Xf1wX9f",
        "colab_type": "code",
        "colab": {
          "base_uri": "https://localhost:8080/",
          "height": 35
        },
        "outputId": "dfd6513e-e088-4162-d6f0-3f1b1d6e488b"
      },
      "source": [
        "from sklearn.metrics import accuracy_score,confusion_matrix\n",
        "accuracy_score(y_pred,y_test)"
      ],
      "execution_count": 86,
      "outputs": [
        {
          "output_type": "execute_result",
          "data": {
            "text/plain": [
              "0.8235294117647058"
            ]
          },
          "metadata": {
            "tags": []
          },
          "execution_count": 86
        }
      ]
    },
    {
      "cell_type": "code",
      "metadata": {
        "id": "BSlJEkajwsgH",
        "colab_type": "code",
        "colab": {
          "base_uri": "https://localhost:8080/",
          "height": 52
        },
        "outputId": "10f607bc-8526-4e8d-d140-7b2ab6afddc7"
      },
      "source": [
        "confusion_matrix(y_pred,y_test)"
      ],
      "execution_count": 87,
      "outputs": [
        {
          "output_type": "execute_result",
          "data": {
            "text/plain": [
              "array([[17,  3],\n",
              "       [ 6, 25]])"
            ]
          },
          "metadata": {
            "tags": []
          },
          "execution_count": 87
        }
      ]
    },
    {
      "cell_type": "code",
      "metadata": {
        "id": "yetaVXGFwyAK",
        "colab_type": "code",
        "colab": {
          "base_uri": "https://localhost:8080/",
          "height": 35
        },
        "outputId": "ca6a0b12-dd8a-48ad-baaf-567ef4477bb3"
      },
      "source": [
        "a =np.array([1,2,3,4,5,6,7,8,9,10])\n",
        "a"
      ],
      "execution_count": 88,
      "outputs": [
        {
          "output_type": "execute_result",
          "data": {
            "text/plain": [
              "array([ 1,  2,  3,  4,  5,  6,  7,  8,  9, 10])"
            ]
          },
          "metadata": {
            "tags": []
          },
          "execution_count": 88
        }
      ]
    },
    {
      "cell_type": "code",
      "metadata": {
        "id": "6BA-oNDHE4ME",
        "colab_type": "code",
        "colab": {
          "base_uri": "https://localhost:8080/",
          "height": 52
        },
        "outputId": "2aed6054-cc36-4c8b-ec0e-ad47b53449bc"
      },
      "source": [
        "amax = a.max()\n",
        "amin = a.min()\n",
        "anorm = (a-amin)/(amax-amin)\n",
        "anorm"
      ],
      "execution_count": 89,
      "outputs": [
        {
          "output_type": "execute_result",
          "data": {
            "text/plain": [
              "array([0.        , 0.11111111, 0.22222222, 0.33333333, 0.44444444,\n",
              "       0.55555556, 0.66666667, 0.77777778, 0.88888889, 1.        ])"
            ]
          },
          "metadata": {
            "tags": []
          },
          "execution_count": 89
        }
      ]
    },
    {
      "cell_type": "code",
      "metadata": {
        "id": "tCINmWDTyao8",
        "colab_type": "code",
        "colab": {}
      },
      "source": [
        "# Min Max Scaler - Preprocessing Technique\n",
        "from sklearn.preprocessing import MinMaxScaler\n",
        "norm = MinMaxScaler()\n",
        "x_train = norm.fit_transform(x_train)\n",
        "x_test = norm.transform(x_test)"
      ],
      "execution_count": 90,
      "outputs": []
    },
    {
      "cell_type": "code",
      "metadata": {
        "id": "27fjwGvGHnaP",
        "colab_type": "code",
        "colab": {
          "base_uri": "https://localhost:8080/",
          "height": 243
        },
        "outputId": "d52ecb27-f47c-45b2-eb18-0852826e9d8c"
      },
      "source": [
        "x_train"
      ],
      "execution_count": 91,
      "outputs": [
        {
          "output_type": "execute_result",
          "data": {
            "text/plain": [
              "array([[0.41732283, 0.56299213, 0.70866142, ..., 0.24015748, 0.28937008,\n",
              "        0.3503937 ],\n",
              "       [0.35170604, 0.6496063 , 0.81108924, ..., 0.30511811, 0.5492126 ,\n",
              "        0.12073491],\n",
              "       [0.49324803, 0.64370079, 0.85433071, ..., 0.57480315, 0.61417323,\n",
              "        0.68897638],\n",
              "       ...,\n",
              "       [0.30708661, 0.55905512, 0.82677165, ..., 0.1496063 , 0.29527559,\n",
              "        0.45177165],\n",
              "       [0.30377953, 0.41653543, 0.55795276, ..., 0.2134252 , 0.23826772,\n",
              "        0.03968504],\n",
              "       [0.38582677, 0.5511811 , 0.68503937, ..., 0.18307087, 0.28149606,\n",
              "        0.34940945]])"
            ]
          },
          "metadata": {
            "tags": []
          },
          "execution_count": 91
        }
      ]
    },
    {
      "cell_type": "code",
      "metadata": {
        "colab_type": "code",
        "id": "6Y5Elq4eH6q6",
        "colab": {
          "base_uri": "https://localhost:8080/",
          "height": 69
        },
        "outputId": "a71d53ea-2453-4289-b09b-50225e6fd171"
      },
      "source": [
        "model = KNeighborsClassifier(n_neighbors=1)\n",
        "model.fit(x_train,y_train)"
      ],
      "execution_count": 92,
      "outputs": [
        {
          "output_type": "execute_result",
          "data": {
            "text/plain": [
              "KNeighborsClassifier(algorithm='auto', leaf_size=30, metric='minkowski',\n",
              "                     metric_params=None, n_jobs=None, n_neighbors=1, p=2,\n",
              "                     weights='uniform')"
            ]
          },
          "metadata": {
            "tags": []
          },
          "execution_count": 92
        }
      ]
    },
    {
      "cell_type": "code",
      "metadata": {
        "colab_type": "code",
        "id": "VJZvinUVH6rA",
        "colab": {}
      },
      "source": [
        "y_pred = model.predict(x_test)"
      ],
      "execution_count": 93,
      "outputs": []
    },
    {
      "cell_type": "code",
      "metadata": {
        "colab_type": "code",
        "id": "dMIBga3vH6rE",
        "colab": {
          "base_uri": "https://localhost:8080/",
          "height": 156
        },
        "outputId": "d77fd20c-182b-446c-9c69-992ca40874e5"
      },
      "source": [
        "y_pred "
      ],
      "execution_count": 94,
      "outputs": [
        {
          "output_type": "execute_result",
          "data": {
            "text/plain": [
              "array(['rocket', 'ship', 'ship', 'ship', 'rocket', 'ship', 'rocket',\n",
              "       'rocket', 'rocket', 'ship', 'rocket', 'ship', 'ship', 'ship',\n",
              "       'rocket', 'ship', 'rocket', 'ship', 'rocket', 'rocket', 'ship',\n",
              "       'ship', 'rocket', 'ship', 'rocket', 'ship', 'ship', 'ship', 'ship',\n",
              "       'rocket', 'rocket', 'rocket', 'ship', 'rocket', 'rocket', 'ship',\n",
              "       'rocket', 'rocket', 'rocket', 'ship', 'rocket', 'rocket', 'ship',\n",
              "       'rocket', 'rocket', 'ship', 'rocket', 'ship', 'ship', 'ship',\n",
              "       'ship'], dtype=object)"
            ]
          },
          "metadata": {
            "tags": []
          },
          "execution_count": 94
        }
      ]
    },
    {
      "cell_type": "code",
      "metadata": {
        "colab_type": "code",
        "id": "vGWiOwCWH6rI",
        "colab": {
          "base_uri": "https://localhost:8080/",
          "height": 156
        },
        "outputId": "b16b84f9-120a-414e-fbf5-4bf7018d98e3"
      },
      "source": [
        "y_test "
      ],
      "execution_count": 95,
      "outputs": [
        {
          "output_type": "execute_result",
          "data": {
            "text/plain": [
              "array(['rocket', 'ship', 'ship', 'ship', 'ship', 'ship', 'rocket', 'ship',\n",
              "       'rocket', 'ship', 'rocket', 'ship', 'ship', 'ship', 'rocket',\n",
              "       'rocket', 'rocket', 'ship', 'rocket', 'rocket', 'ship', 'ship',\n",
              "       'rocket', 'ship', 'rocket', 'ship', 'ship', 'ship', 'ship',\n",
              "       'rocket', 'rocket', 'rocket', 'ship', 'ship', 'rocket', 'ship',\n",
              "       'ship', 'rocket', 'rocket', 'ship', 'ship', 'rocket', 'rocket',\n",
              "       'ship', 'ship', 'rocket', 'rocket', 'rocket', 'ship', 'ship',\n",
              "       'rocket'], dtype=object)"
            ]
          },
          "metadata": {
            "tags": []
          },
          "execution_count": 95
        }
      ]
    },
    {
      "cell_type": "code",
      "metadata": {
        "colab_type": "code",
        "id": "vTkoSGqPH6rN",
        "colab": {
          "base_uri": "https://localhost:8080/",
          "height": 35
        },
        "outputId": "40180662-0348-4ec3-f71a-7f5a3edfd618"
      },
      "source": [
        "# Evaluation: Accuracy Score, Confusion Matrix\n",
        "from sklearn.metrics import accuracy_score,confusion_matrix\n",
        "accuracy_score(y_pred,y_test)"
      ],
      "execution_count": 96,
      "outputs": [
        {
          "output_type": "execute_result",
          "data": {
            "text/plain": [
              "0.7647058823529411"
            ]
          },
          "metadata": {
            "tags": []
          },
          "execution_count": 96
        }
      ]
    },
    {
      "cell_type": "code",
      "metadata": {
        "colab_type": "code",
        "id": "g39M0YLaH6rR",
        "colab": {
          "base_uri": "https://localhost:8080/",
          "height": 52
        },
        "outputId": "c8c46be2-cd1e-46a4-b7d9-61a7497f01e9"
      },
      "source": [
        "confusion_matrix(y_pred,y_test)"
      ],
      "execution_count": 97,
      "outputs": [
        {
          "output_type": "execute_result",
          "data": {
            "text/plain": [
              "array([[18,  7],\n",
              "       [ 5, 21]])"
            ]
          },
          "metadata": {
            "tags": []
          },
          "execution_count": 97
        }
      ]
    },
    {
      "cell_type": "code",
      "metadata": {
        "id": "JMoL1HWDEDFy",
        "colab_type": "code",
        "colab": {
          "base_uri": "https://localhost:8080/",
          "height": 287
        },
        "outputId": "082f959a-1191-4ed2-e351-cdb3bf206c18"
      },
      "source": [
        "plt.imshow(i)"
      ],
      "execution_count": 98,
      "outputs": [
        {
          "output_type": "execute_result",
          "data": {
            "text/plain": [
              "<matplotlib.image.AxesImage at 0x7fe6400b2470>"
            ]
          },
          "metadata": {
            "tags": []
          },
          "execution_count": 98
        },
        {
          "output_type": "display_data",
          "data": {
            "image/png": "[encoded data removed]",
            "text/plain": [
              "<Figure size 432x288 with 1 Axes>"
            ]
          },
          "metadata": {
            "tags": [],
            "needs_background": "light"
          }
        }
      ]
    },
    {
      "cell_type": "code",
      "metadata": {
        "id": "QLrFdqRUH-8j",
        "colab_type": "code",
        "colab": {
          "base_uri": "https://localhost:8080/",
          "height": 35
        },
        "outputId": "b25f45b1-5c07-435b-b8b1-6007f05a4f02"
      },
      "source": [
        "y1 = [fltimage]\n",
        "y1 = norm.transform(y1)\n",
        "model.predict(y1)"
      ],
      "execution_count": 99,
      "outputs": [
        {
          "output_type": "execute_result",
          "data": {
            "text/plain": [
              "array(['rocket'], dtype=object)"
            ]
          },
          "metadata": {
            "tags": []
          },
          "execution_count": 99
        }
      ]
    },
    {
      "cell_type": "code",
      "metadata": {
        "id": "DkA9L41rdGi-",
        "colab_type": "code",
        "colab": {}
      },
      "source": [
        ""
      ],
      "execution_count": 99,
      "outputs": []
    }
  ]
}